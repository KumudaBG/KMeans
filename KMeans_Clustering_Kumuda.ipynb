{
  "nbformat": 4,
  "nbformat_minor": 0,
  "metadata": {
    "colab": {
      "name": "KMeans_Clustering_Kumuda.ipynb",
      "provenance": [],
      "collapsed_sections": [],
      "include_colab_link": true
    },
    "kernelspec": {
      "name": "python3",
      "display_name": "Python 3"
    },
    "accelerator": "GPU"
  },
  "cells": [
    {
      "cell_type": "markdown",
      "metadata": {
        "id": "view-in-github",
        "colab_type": "text"
      },
      "source": [
        "<a href=\"https://colab.research.google.com/github/KumudaBG/KMeans/blob/main/KMeans_Clustering_Kumuda.ipynb\" target=\"_parent\"><img src=\"https://colab.research.google.com/assets/colab-badge.svg\" alt=\"Open In Colab\"/></a>"
      ]
    },
    {
      "cell_type": "markdown",
      "metadata": {
        "id": "xHvucBKUdsGD"
      },
      "source": [
        "#Data collected from https://www.macrotrends.net/countries/USA/united-states/gdp-gross-domestic-product"
      ]
    },
    {
      "cell_type": "code",
      "metadata": {
        "id": "0Ic-h4xxwC0m"
      },
      "source": [
        "# importing libraries for analysis\n",
        "import pandas as pd\n",
        "import numpy as np\n",
        "import matplotlib.pyplot as plt"
      ],
      "execution_count": null,
      "outputs": []
    },
    {
      "cell_type": "code",
      "metadata": {
        "id": "kcm3M0X0ePvP"
      },
      "source": [
        "# Generate date range in order og\n",
        "dateRange = pd.date_range(start='1900-01-01', end='2020-12-31')"
      ],
      "execution_count": null,
      "outputs": []
    },
    {
      "cell_type": "code",
      "metadata": {
        "colab": {
          "base_uri": "https://localhost:8080/",
          "height": 340
        },
        "id": "DMqztlUjeUP4",
        "outputId": "b1f61260-6808-4b53-efa6-9eeb37c05eb2"
      },
      "source": [
        "df = pd.DataFrame({ 'date': dateRange})\n",
        "df['date'] = df['date'].astype(str)\n",
        "df.info()\n",
        "df.head()"
      ],
      "execution_count": null,
      "outputs": [
        {
          "output_type": "stream",
          "text": [
            "<class 'pandas.core.frame.DataFrame'>\n",
            "RangeIndex: 44195 entries, 0 to 44194\n",
            "Data columns (total 1 columns):\n",
            " #   Column  Non-Null Count  Dtype \n",
            "---  ------  --------------  ----- \n",
            " 0   date    44195 non-null  object\n",
            "dtypes: object(1)\n",
            "memory usage: 345.4+ KB\n"
          ],
          "name": "stdout"
        },
        {
          "output_type": "execute_result",
          "data": {
            "text/html": [
              "<div>\n",
              "<style scoped>\n",
              "    .dataframe tbody tr th:only-of-type {\n",
              "        vertical-align: middle;\n",
              "    }\n",
              "\n",
              "    .dataframe tbody tr th {\n",
              "        vertical-align: top;\n",
              "    }\n",
              "\n",
              "    .dataframe thead th {\n",
              "        text-align: right;\n",
              "    }\n",
              "</style>\n",
              "<table border=\"1\" class=\"dataframe\">\n",
              "  <thead>\n",
              "    <tr style=\"text-align: right;\">\n",
              "      <th></th>\n",
              "      <th>date</th>\n",
              "    </tr>\n",
              "  </thead>\n",
              "  <tbody>\n",
              "    <tr>\n",
              "      <th>0</th>\n",
              "      <td>1900-01-01</td>\n",
              "    </tr>\n",
              "    <tr>\n",
              "      <th>1</th>\n",
              "      <td>1900-01-02</td>\n",
              "    </tr>\n",
              "    <tr>\n",
              "      <th>2</th>\n",
              "      <td>1900-01-03</td>\n",
              "    </tr>\n",
              "    <tr>\n",
              "      <th>3</th>\n",
              "      <td>1900-01-04</td>\n",
              "    </tr>\n",
              "    <tr>\n",
              "      <th>4</th>\n",
              "      <td>1900-01-05</td>\n",
              "    </tr>\n",
              "  </tbody>\n",
              "</table>\n",
              "</div>"
            ],
            "text/plain": [
              "         date\n",
              "0  1900-01-01\n",
              "1  1900-01-02\n",
              "2  1900-01-03\n",
              "3  1900-01-04\n",
              "4  1900-01-05"
            ]
          },
          "metadata": {
            "tags": []
          },
          "execution_count": 84
        }
      ]
    },
    {
      "cell_type": "code",
      "metadata": {
        "id": "K3-ueIGSe_Vb"
      },
      "source": [
        "co2EmissionDf = pd.read_csv('https://raw.githubusercontent.com/shivkumarganesh/MachineLearning-Course/main/Data/united-states-carbon-co2-emissions.csv')\n",
        "coalUsageDf = pd.read_csv('https://raw.githubusercontent.com/shivkumarganesh/MachineLearning-Course/main/Data/united-states-coal-usage-consumption.csv')\n",
        "fossilFuelDf = pd.read_csv('https://raw.githubusercontent.com/shivkumarganesh/MachineLearning-Course/main/Data/united-states-fossil-fuel-consumption.csv')\n",
        "growthRateDf = pd.read_csv('https://raw.githubusercontent.com/shivkumarganesh/MachineLearning-Course/main/Data/united-states-gdp-growth-rate.csv')\n",
        "greenHouseEmissionDf = pd.read_csv('https://raw.githubusercontent.com/shivkumarganesh/MachineLearning-Course/main/Data/united-states-ghg-greenhouse-gas-emissions.csv')\n",
        "povertyRateDf = pd.read_csv('https://raw.githubusercontent.com/shivkumarganesh/MachineLearning-Course/main/Data/united-states-poverty-rate.csv')\n",
        "unemploymentDf = pd.read_csv('https://raw.githubusercontent.com/shivkumarganesh/MachineLearning-Course/main/Data/united-states-unemployment-rate.csv')\n",
        "populationDf = pd.read_csv('https://raw.githubusercontent.com/shivkumarganesh/MachineLearning-Course/main/Data/united-states-population.csv')\n",
        "gdpDomesticDf = pd.read_csv('https://raw.githubusercontent.com/shivkumarganesh/MachineLearning-Course/main/Data/united-states-gdp_new.csv')"
      ],
      "execution_count": null,
      "outputs": []
    },
    {
      "cell_type": "markdown",
      "metadata": {
        "id": "T8vskqw3U23n"
      },
      "source": [
        "##CO2 emission, PerCapita"
      ]
    },
    {
      "cell_type": "code",
      "metadata": {
        "colab": {
          "base_uri": "https://localhost:8080/",
          "height": 204
        },
        "id": "pbPs5QaNVJuy",
        "outputId": "a8b3c880-5efa-417a-ea33-d5bb2fb11cad"
      },
      "source": [
        "co2EmissionDf.head()"
      ],
      "execution_count": null,
      "outputs": [
        {
          "output_type": "execute_result",
          "data": {
            "text/html": [
              "<div>\n",
              "<style scoped>\n",
              "    .dataframe tbody tr th:only-of-type {\n",
              "        vertical-align: middle;\n",
              "    }\n",
              "\n",
              "    .dataframe tbody tr th {\n",
              "        vertical-align: top;\n",
              "    }\n",
              "\n",
              "    .dataframe thead th {\n",
              "        text-align: right;\n",
              "    }\n",
              "</style>\n",
              "<table border=\"1\" class=\"dataframe\">\n",
              "  <thead>\n",
              "    <tr style=\"text-align: right;\">\n",
              "      <th></th>\n",
              "      <th>date</th>\n",
              "      <th>KT_CO2</th>\n",
              "      <th>Metric_TON_PerCapita</th>\n",
              "    </tr>\n",
              "  </thead>\n",
              "  <tbody>\n",
              "    <tr>\n",
              "      <th>0</th>\n",
              "      <td>1960-12-31</td>\n",
              "      <td>2890696.100</td>\n",
              "      <td>15.9998</td>\n",
              "    </tr>\n",
              "    <tr>\n",
              "      <th>1</th>\n",
              "      <td>1961-12-31</td>\n",
              "      <td>2880505.507</td>\n",
              "      <td>15.6813</td>\n",
              "    </tr>\n",
              "    <tr>\n",
              "      <th>2</th>\n",
              "      <td>1962-12-31</td>\n",
              "      <td>2987207.873</td>\n",
              "      <td>16.0139</td>\n",
              "    </tr>\n",
              "    <tr>\n",
              "      <th>3</th>\n",
              "      <td>1963-12-31</td>\n",
              "      <td>3119230.874</td>\n",
              "      <td>16.4828</td>\n",
              "    </tr>\n",
              "    <tr>\n",
              "      <th>4</th>\n",
              "      <td>1964-12-31</td>\n",
              "      <td>3255995.306</td>\n",
              "      <td>16.9681</td>\n",
              "    </tr>\n",
              "  </tbody>\n",
              "</table>\n",
              "</div>"
            ],
            "text/plain": [
              "         date       KT_CO2  Metric_TON_PerCapita\n",
              "0  1960-12-31  2890696.100               15.9998\n",
              "1  1961-12-31  2880505.507               15.6813\n",
              "2  1962-12-31  2987207.873               16.0139\n",
              "3  1963-12-31  3119230.874               16.4828\n",
              "4  1964-12-31  3255995.306               16.9681"
            ]
          },
          "metadata": {
            "tags": []
          },
          "execution_count": 117
        }
      ]
    },
    {
      "cell_type": "markdown",
      "metadata": {
        "id": "rg8lf1dwVPTI"
      },
      "source": [
        "##Coal Usage"
      ]
    },
    {
      "cell_type": "code",
      "metadata": {
        "colab": {
          "base_uri": "https://localhost:8080/",
          "height": 204
        },
        "id": "JtcDHAQLVTqI",
        "outputId": "f2b80102-ea94-438f-df70-2356bddba393"
      },
      "source": [
        "coalUsageDf.head()"
      ],
      "execution_count": null,
      "outputs": [
        {
          "output_type": "execute_result",
          "data": {
            "text/html": [
              "<div>\n",
              "<style scoped>\n",
              "    .dataframe tbody tr th:only-of-type {\n",
              "        vertical-align: middle;\n",
              "    }\n",
              "\n",
              "    .dataframe tbody tr th {\n",
              "        vertical-align: top;\n",
              "    }\n",
              "\n",
              "    .dataframe thead th {\n",
              "        text-align: right;\n",
              "    }\n",
              "</style>\n",
              "<table border=\"1\" class=\"dataframe\">\n",
              "  <thead>\n",
              "    <tr style=\"text-align: right;\">\n",
              "      <th></th>\n",
              "      <th>date</th>\n",
              "      <th>Elect_frm_Coal_Percent</th>\n",
              "      <th>Elect_Annual_Change</th>\n",
              "    </tr>\n",
              "  </thead>\n",
              "  <tbody>\n",
              "    <tr>\n",
              "      <th>0</th>\n",
              "      <td>1960-12-31</td>\n",
              "      <td>53.9120</td>\n",
              "      <td>0.00</td>\n",
              "    </tr>\n",
              "    <tr>\n",
              "      <th>1</th>\n",
              "      <td>1961-12-31</td>\n",
              "      <td>53.7305</td>\n",
              "      <td>-0.18</td>\n",
              "    </tr>\n",
              "    <tr>\n",
              "      <th>2</th>\n",
              "      <td>1962-12-31</td>\n",
              "      <td>53.2502</td>\n",
              "      <td>-0.48</td>\n",
              "    </tr>\n",
              "    <tr>\n",
              "      <th>3</th>\n",
              "      <td>1963-12-31</td>\n",
              "      <td>54.3901</td>\n",
              "      <td>1.14</td>\n",
              "    </tr>\n",
              "    <tr>\n",
              "      <th>4</th>\n",
              "      <td>1964-12-31</td>\n",
              "      <td>54.0154</td>\n",
              "      <td>-0.37</td>\n",
              "    </tr>\n",
              "  </tbody>\n",
              "</table>\n",
              "</div>"
            ],
            "text/plain": [
              "         date  Elect_frm_Coal_Percent  Elect_Annual_Change\n",
              "0  1960-12-31                 53.9120                 0.00\n",
              "1  1961-12-31                 53.7305                -0.18\n",
              "2  1962-12-31                 53.2502                -0.48\n",
              "3  1963-12-31                 54.3901                 1.14\n",
              "4  1964-12-31                 54.0154                -0.37"
            ]
          },
          "metadata": {
            "tags": []
          },
          "execution_count": 118
        }
      ]
    },
    {
      "cell_type": "markdown",
      "metadata": {
        "id": "cYUx504IVinx"
      },
      "source": [
        "##Fossil Fuel Consumption"
      ]
    },
    {
      "cell_type": "code",
      "metadata": {
        "colab": {
          "base_uri": "https://localhost:8080/",
          "height": 204
        },
        "id": "anRTDQmOVqo0",
        "outputId": "a237600a-0789-4e4a-9c90-7e0b9243d9d8"
      },
      "source": [
        "fossilFuelDf.head()"
      ],
      "execution_count": null,
      "outputs": [
        {
          "output_type": "execute_result",
          "data": {
            "text/html": [
              "<div>\n",
              "<style scoped>\n",
              "    .dataframe tbody tr th:only-of-type {\n",
              "        vertical-align: middle;\n",
              "    }\n",
              "\n",
              "    .dataframe tbody tr th {\n",
              "        vertical-align: top;\n",
              "    }\n",
              "\n",
              "    .dataframe thead th {\n",
              "        text-align: right;\n",
              "    }\n",
              "</style>\n",
              "<table border=\"1\" class=\"dataframe\">\n",
              "  <thead>\n",
              "    <tr style=\"text-align: right;\">\n",
              "      <th></th>\n",
              "      <th>date</th>\n",
              "      <th>Energy_Fossil_Use_Percent</th>\n",
              "      <th>Fossil_Enr_Annual_Change</th>\n",
              "    </tr>\n",
              "  </thead>\n",
              "  <tbody>\n",
              "    <tr>\n",
              "      <th>0</th>\n",
              "      <td>1960-12-31</td>\n",
              "      <td>95.5257</td>\n",
              "      <td>0.00</td>\n",
              "    </tr>\n",
              "    <tr>\n",
              "      <th>1</th>\n",
              "      <td>1961-12-31</td>\n",
              "      <td>95.5668</td>\n",
              "      <td>0.04</td>\n",
              "    </tr>\n",
              "    <tr>\n",
              "      <th>2</th>\n",
              "      <td>1962-12-31</td>\n",
              "      <td>95.6055</td>\n",
              "      <td>0.04</td>\n",
              "    </tr>\n",
              "    <tr>\n",
              "      <th>3</th>\n",
              "      <td>1963-12-31</td>\n",
              "      <td>95.7693</td>\n",
              "      <td>0.16</td>\n",
              "    </tr>\n",
              "    <tr>\n",
              "      <th>4</th>\n",
              "      <td>1964-12-31</td>\n",
              "      <td>95.8016</td>\n",
              "      <td>0.03</td>\n",
              "    </tr>\n",
              "  </tbody>\n",
              "</table>\n",
              "</div>"
            ],
            "text/plain": [
              "         date  Energy_Fossil_Use_Percent  Fossil_Enr_Annual_Change\n",
              "0  1960-12-31                    95.5257                      0.00\n",
              "1  1961-12-31                    95.5668                      0.04\n",
              "2  1962-12-31                    95.6055                      0.04\n",
              "3  1963-12-31                    95.7693                      0.16\n",
              "4  1964-12-31                    95.8016                      0.03"
            ]
          },
          "metadata": {
            "tags": []
          },
          "execution_count": 119
        }
      ]
    },
    {
      "cell_type": "markdown",
      "metadata": {
        "id": "U-4rUyTQVueo"
      },
      "source": [
        "##GDP Growth Rate"
      ]
    },
    {
      "cell_type": "code",
      "metadata": {
        "colab": {
          "base_uri": "https://localhost:8080/",
          "height": 204
        },
        "id": "1OD-pyDOV-fB",
        "outputId": "62d5a446-b63b-498f-8f01-65f5295fb088"
      },
      "source": [
        "growthRateDf.head()"
      ],
      "execution_count": null,
      "outputs": [
        {
          "output_type": "execute_result",
          "data": {
            "text/html": [
              "<div>\n",
              "<style scoped>\n",
              "    .dataframe tbody tr th:only-of-type {\n",
              "        vertical-align: middle;\n",
              "    }\n",
              "\n",
              "    .dataframe tbody tr th {\n",
              "        vertical-align: top;\n",
              "    }\n",
              "\n",
              "    .dataframe thead th {\n",
              "        text-align: right;\n",
              "    }\n",
              "</style>\n",
              "<table border=\"1\" class=\"dataframe\">\n",
              "  <thead>\n",
              "    <tr style=\"text-align: right;\">\n",
              "      <th></th>\n",
              "      <th>date</th>\n",
              "      <th>GDP_Growth_Percent</th>\n",
              "      <th>Growth_Annual_Change</th>\n",
              "    </tr>\n",
              "  </thead>\n",
              "  <tbody>\n",
              "    <tr>\n",
              "      <th>0</th>\n",
              "      <td>1961-12-31</td>\n",
              "      <td>2.3</td>\n",
              "      <td>0.0</td>\n",
              "    </tr>\n",
              "    <tr>\n",
              "      <th>1</th>\n",
              "      <td>1962-12-31</td>\n",
              "      <td>6.1</td>\n",
              "      <td>3.8</td>\n",
              "    </tr>\n",
              "    <tr>\n",
              "      <th>2</th>\n",
              "      <td>1963-12-31</td>\n",
              "      <td>4.4</td>\n",
              "      <td>-1.7</td>\n",
              "    </tr>\n",
              "    <tr>\n",
              "      <th>3</th>\n",
              "      <td>1964-12-31</td>\n",
              "      <td>5.8</td>\n",
              "      <td>1.4</td>\n",
              "    </tr>\n",
              "    <tr>\n",
              "      <th>4</th>\n",
              "      <td>1965-12-31</td>\n",
              "      <td>6.4</td>\n",
              "      <td>0.6</td>\n",
              "    </tr>\n",
              "  </tbody>\n",
              "</table>\n",
              "</div>"
            ],
            "text/plain": [
              "         date  GDP_Growth_Percent  Growth_Annual_Change\n",
              "0  1961-12-31                 2.3                   0.0\n",
              "1  1962-12-31                 6.1                   3.8\n",
              "2  1963-12-31                 4.4                  -1.7\n",
              "3  1964-12-31                 5.8                   1.4\n",
              "4  1965-12-31                 6.4                   0.6"
            ]
          },
          "metadata": {
            "tags": []
          },
          "execution_count": 120
        }
      ]
    },
    {
      "cell_type": "markdown",
      "metadata": {
        "id": "WYbZSzYfVvH2"
      },
      "source": [
        "##Green House Emission"
      ]
    },
    {
      "cell_type": "code",
      "metadata": {
        "colab": {
          "base_uri": "https://localhost:8080/",
          "height": 204
        },
        "id": "wGDCqvyuWJ5Q",
        "outputId": "aea32fbc-dfe9-4ff1-899f-833de38d62bb"
      },
      "source": [
        "greenHouseEmissionDf.head()"
      ],
      "execution_count": null,
      "outputs": [
        {
          "output_type": "execute_result",
          "data": {
            "text/html": [
              "<div>\n",
              "<style scoped>\n",
              "    .dataframe tbody tr th:only-of-type {\n",
              "        vertical-align: middle;\n",
              "    }\n",
              "\n",
              "    .dataframe tbody tr th {\n",
              "        vertical-align: top;\n",
              "    }\n",
              "\n",
              "    .dataframe thead th {\n",
              "        text-align: right;\n",
              "    }\n",
              "</style>\n",
              "<table border=\"1\" class=\"dataframe\">\n",
              "  <thead>\n",
              "    <tr style=\"text-align: right;\">\n",
              "      <th></th>\n",
              "      <th>date</th>\n",
              "      <th>KT_CO2</th>\n",
              "      <th>CO2_Annual_Change</th>\n",
              "    </tr>\n",
              "  </thead>\n",
              "  <tbody>\n",
              "    <tr>\n",
              "      <th>0</th>\n",
              "      <td>1970-12-31</td>\n",
              "      <td>5400503.50</td>\n",
              "      <td>0.00</td>\n",
              "    </tr>\n",
              "    <tr>\n",
              "      <th>1</th>\n",
              "      <td>1971-12-31</td>\n",
              "      <td>5440420.62</td>\n",
              "      <td>0.74</td>\n",
              "    </tr>\n",
              "    <tr>\n",
              "      <th>2</th>\n",
              "      <td>1972-12-31</td>\n",
              "      <td>5704297.25</td>\n",
              "      <td>4.85</td>\n",
              "    </tr>\n",
              "    <tr>\n",
              "      <th>3</th>\n",
              "      <td>1973-12-31</td>\n",
              "      <td>5912971.38</td>\n",
              "      <td>3.66</td>\n",
              "    </tr>\n",
              "    <tr>\n",
              "      <th>4</th>\n",
              "      <td>1974-12-31</td>\n",
              "      <td>5756864.10</td>\n",
              "      <td>-2.64</td>\n",
              "    </tr>\n",
              "  </tbody>\n",
              "</table>\n",
              "</div>"
            ],
            "text/plain": [
              "         date      KT_CO2  CO2_Annual_Change \n",
              "0  1970-12-31  5400503.50                0.00\n",
              "1  1971-12-31  5440420.62                0.74\n",
              "2  1972-12-31  5704297.25                4.85\n",
              "3  1973-12-31  5912971.38                3.66\n",
              "4  1974-12-31  5756864.10               -2.64"
            ]
          },
          "metadata": {
            "tags": []
          },
          "execution_count": 121
        }
      ]
    },
    {
      "cell_type": "markdown",
      "metadata": {
        "id": "oZATaTHdVvUy"
      },
      "source": [
        "##Poverty Rate"
      ]
    },
    {
      "cell_type": "code",
      "metadata": {
        "colab": {
          "base_uri": "https://localhost:8080/",
          "height": 204
        },
        "id": "A9XFa0OUWcxN",
        "outputId": "a5fba665-aa62-47d1-90c7-27b493bdfae1"
      },
      "source": [
        "povertyRateDf.head()"
      ],
      "execution_count": null,
      "outputs": [
        {
          "output_type": "execute_result",
          "data": {
            "text/html": [
              "<div>\n",
              "<style scoped>\n",
              "    .dataframe tbody tr th:only-of-type {\n",
              "        vertical-align: middle;\n",
              "    }\n",
              "\n",
              "    .dataframe tbody tr th {\n",
              "        vertical-align: top;\n",
              "    }\n",
              "\n",
              "    .dataframe thead th {\n",
              "        text-align: right;\n",
              "    }\n",
              "</style>\n",
              "<table border=\"1\" class=\"dataframe\">\n",
              "  <thead>\n",
              "    <tr style=\"text-align: right;\">\n",
              "      <th></th>\n",
              "      <th>date</th>\n",
              "      <th>percentage_below_poverty</th>\n",
              "      <th>poverty_percent_Change</th>\n",
              "    </tr>\n",
              "  </thead>\n",
              "  <tbody>\n",
              "    <tr>\n",
              "      <th>0</th>\n",
              "      <td>1974-12-31</td>\n",
              "      <td>1.7</td>\n",
              "      <td>0.0</td>\n",
              "    </tr>\n",
              "    <tr>\n",
              "      <th>1</th>\n",
              "      <td>1979-12-31</td>\n",
              "      <td>1.2</td>\n",
              "      <td>-0.5</td>\n",
              "    </tr>\n",
              "    <tr>\n",
              "      <th>2</th>\n",
              "      <td>1986-12-31</td>\n",
              "      <td>1.2</td>\n",
              "      <td>0.0</td>\n",
              "    </tr>\n",
              "    <tr>\n",
              "      <th>3</th>\n",
              "      <td>1991-12-31</td>\n",
              "      <td>1.2</td>\n",
              "      <td>0.0</td>\n",
              "    </tr>\n",
              "    <tr>\n",
              "      <th>4</th>\n",
              "      <td>1994-12-31</td>\n",
              "      <td>1.5</td>\n",
              "      <td>0.3</td>\n",
              "    </tr>\n",
              "  </tbody>\n",
              "</table>\n",
              "</div>"
            ],
            "text/plain": [
              "         date  percentage_below_poverty  poverty_percent_Change\n",
              "0  1974-12-31                       1.7                     0.0\n",
              "1  1979-12-31                       1.2                    -0.5\n",
              "2  1986-12-31                       1.2                     0.0\n",
              "3  1991-12-31                       1.2                     0.0\n",
              "4  1994-12-31                       1.5                     0.3"
            ]
          },
          "metadata": {
            "tags": []
          },
          "execution_count": 122
        }
      ]
    },
    {
      "cell_type": "markdown",
      "metadata": {
        "id": "3ZGx0150WiYq"
      },
      "source": [
        "##Unemployment Rate"
      ]
    },
    {
      "cell_type": "code",
      "metadata": {
        "colab": {
          "base_uri": "https://localhost:8080/",
          "height": 204
        },
        "id": "k1zSeWmaWnA-",
        "outputId": "5b7ca64a-10d0-48b6-b949-d4c53284f0ab"
      },
      "source": [
        "unemploymentDf.head()"
      ],
      "execution_count": null,
      "outputs": [
        {
          "output_type": "execute_result",
          "data": {
            "text/html": [
              "<div>\n",
              "<style scoped>\n",
              "    .dataframe tbody tr th:only-of-type {\n",
              "        vertical-align: middle;\n",
              "    }\n",
              "\n",
              "    .dataframe tbody tr th {\n",
              "        vertical-align: top;\n",
              "    }\n",
              "\n",
              "    .dataframe thead th {\n",
              "        text-align: right;\n",
              "    }\n",
              "</style>\n",
              "<table border=\"1\" class=\"dataframe\">\n",
              "  <thead>\n",
              "    <tr style=\"text-align: right;\">\n",
              "      <th></th>\n",
              "      <th>date</th>\n",
              "      <th>Unemployment_Rate</th>\n",
              "      <th>Unemployment_Annual_Change</th>\n",
              "    </tr>\n",
              "  </thead>\n",
              "  <tbody>\n",
              "    <tr>\n",
              "      <th>0</th>\n",
              "      <td>1991-12-31</td>\n",
              "      <td>6.800</td>\n",
              "      <td>0.00</td>\n",
              "    </tr>\n",
              "    <tr>\n",
              "      <th>1</th>\n",
              "      <td>1992-12-31</td>\n",
              "      <td>7.500</td>\n",
              "      <td>0.70</td>\n",
              "    </tr>\n",
              "    <tr>\n",
              "      <th>2</th>\n",
              "      <td>1993-12-31</td>\n",
              "      <td>6.900</td>\n",
              "      <td>-0.60</td>\n",
              "    </tr>\n",
              "    <tr>\n",
              "      <th>3</th>\n",
              "      <td>1994-12-31</td>\n",
              "      <td>6.119</td>\n",
              "      <td>-0.78</td>\n",
              "    </tr>\n",
              "    <tr>\n",
              "      <th>4</th>\n",
              "      <td>1995-12-31</td>\n",
              "      <td>5.650</td>\n",
              "      <td>-0.47</td>\n",
              "    </tr>\n",
              "  </tbody>\n",
              "</table>\n",
              "</div>"
            ],
            "text/plain": [
              "         date  Unemployment_Rate  Unemployment_Annual_Change\n",
              "0  1991-12-31              6.800                        0.00\n",
              "1  1992-12-31              7.500                        0.70\n",
              "2  1993-12-31              6.900                       -0.60\n",
              "3  1994-12-31              6.119                       -0.78\n",
              "4  1995-12-31              5.650                       -0.47"
            ]
          },
          "metadata": {
            "tags": []
          },
          "execution_count": 123
        }
      ]
    },
    {
      "cell_type": "markdown",
      "metadata": {
        "id": "xTvACEFcVvnW"
      },
      "source": [
        "##Population"
      ]
    },
    {
      "cell_type": "code",
      "metadata": {
        "colab": {
          "base_uri": "https://localhost:8080/",
          "height": 204
        },
        "id": "7bt6voj0WvXj",
        "outputId": "1c62af14-e73e-4f32-c60e-85ffe5041f1c"
      },
      "source": [
        "populationDf.head()"
      ],
      "execution_count": null,
      "outputs": [
        {
          "output_type": "execute_result",
          "data": {
            "text/html": [
              "<div>\n",
              "<style scoped>\n",
              "    .dataframe tbody tr th:only-of-type {\n",
              "        vertical-align: middle;\n",
              "    }\n",
              "\n",
              "    .dataframe tbody tr th {\n",
              "        vertical-align: top;\n",
              "    }\n",
              "\n",
              "    .dataframe thead th {\n",
              "        text-align: right;\n",
              "    }\n",
              "</style>\n",
              "<table border=\"1\" class=\"dataframe\">\n",
              "  <thead>\n",
              "    <tr style=\"text-align: right;\">\n",
              "      <th></th>\n",
              "      <th>date</th>\n",
              "      <th>Population</th>\n",
              "      <th>Population_Annual_Change</th>\n",
              "    </tr>\n",
              "  </thead>\n",
              "  <tbody>\n",
              "    <tr>\n",
              "      <th>0</th>\n",
              "      <td>1950-12-31</td>\n",
              "      <td>158804395</td>\n",
              "      <td>0.00</td>\n",
              "    </tr>\n",
              "    <tr>\n",
              "      <th>1</th>\n",
              "      <td>1951-12-31</td>\n",
              "      <td>160872266</td>\n",
              "      <td>1.30</td>\n",
              "    </tr>\n",
              "    <tr>\n",
              "      <th>2</th>\n",
              "      <td>1952-12-31</td>\n",
              "      <td>163266028</td>\n",
              "      <td>1.49</td>\n",
              "    </tr>\n",
              "    <tr>\n",
              "      <th>3</th>\n",
              "      <td>1953-12-31</td>\n",
              "      <td>165910003</td>\n",
              "      <td>1.62</td>\n",
              "    </tr>\n",
              "    <tr>\n",
              "      <th>4</th>\n",
              "      <td>1954-12-31</td>\n",
              "      <td>168736387</td>\n",
              "      <td>1.70</td>\n",
              "    </tr>\n",
              "  </tbody>\n",
              "</table>\n",
              "</div>"
            ],
            "text/plain": [
              "         date  Population  Population_Annual_Change\n",
              "0  1950-12-31   158804395                      0.00\n",
              "1  1951-12-31   160872266                      1.30\n",
              "2  1952-12-31   163266028                      1.49\n",
              "3  1953-12-31   165910003                      1.62\n",
              "4  1954-12-31   168736387                      1.70"
            ]
          },
          "metadata": {
            "tags": []
          },
          "execution_count": 124
        }
      ]
    },
    {
      "cell_type": "markdown",
      "metadata": {
        "id": "4Y8tLsg5WutQ"
      },
      "source": [
        "##GDP with Percapita"
      ]
    },
    {
      "cell_type": "code",
      "metadata": {
        "colab": {
          "base_uri": "https://localhost:8080/",
          "height": 204
        },
        "id": "lR7ggCaCW5qq",
        "outputId": "f55c430e-c741-40a1-a3d7-443d8d934dc0"
      },
      "source": [
        "gdpDomesticDf.head()"
      ],
      "execution_count": null,
      "outputs": [
        {
          "output_type": "execute_result",
          "data": {
            "text/html": [
              "<div>\n",
              "<style scoped>\n",
              "    .dataframe tbody tr th:only-of-type {\n",
              "        vertical-align: middle;\n",
              "    }\n",
              "\n",
              "    .dataframe tbody tr th {\n",
              "        vertical-align: top;\n",
              "    }\n",
              "\n",
              "    .dataframe thead th {\n",
              "        text-align: right;\n",
              "    }\n",
              "</style>\n",
              "<table border=\"1\" class=\"dataframe\">\n",
              "  <thead>\n",
              "    <tr style=\"text-align: right;\">\n",
              "      <th></th>\n",
              "      <th>date</th>\n",
              "      <th>gdp</th>\n",
              "      <th>percapita</th>\n",
              "    </tr>\n",
              "  </thead>\n",
              "  <tbody>\n",
              "    <tr>\n",
              "      <th>0</th>\n",
              "      <td>1947-12-31</td>\n",
              "      <td>998.462</td>\n",
              "      <td>1719.223702</td>\n",
              "    </tr>\n",
              "    <tr>\n",
              "      <th>1</th>\n",
              "      <td>1948-12-31</td>\n",
              "      <td>1097.871</td>\n",
              "      <td>1881.308846</td>\n",
              "    </tr>\n",
              "    <tr>\n",
              "      <th>2</th>\n",
              "      <td>1949-12-31</td>\n",
              "      <td>1089.901</td>\n",
              "      <td>1824.273628</td>\n",
              "    </tr>\n",
              "    <tr>\n",
              "      <th>3</th>\n",
              "      <td>1950-12-31</td>\n",
              "      <td>1199.309</td>\n",
              "      <td>1973.347351</td>\n",
              "    </tr>\n",
              "    <tr>\n",
              "      <th>4</th>\n",
              "      <td>1951-12-31</td>\n",
              "      <td>1387.653</td>\n",
              "      <td>2254.245934</td>\n",
              "    </tr>\n",
              "  </tbody>\n",
              "</table>\n",
              "</div>"
            ],
            "text/plain": [
              "         date       gdp    percapita\n",
              "0  1947-12-31   998.462  1719.223702\n",
              "1  1948-12-31  1097.871  1881.308846\n",
              "2  1949-12-31  1089.901  1824.273628\n",
              "3  1950-12-31  1199.309  1973.347351\n",
              "4  1951-12-31  1387.653  2254.245934"
            ]
          },
          "metadata": {
            "tags": []
          },
          "execution_count": 125
        }
      ]
    },
    {
      "cell_type": "code",
      "metadata": {
        "id": "HJWjcIvqhiGJ"
      },
      "source": [
        "def merge_data(initFrame, data):\n",
        "  return initFrame.merge(data ,how='outer',left_on='date', right_on='date')"
      ],
      "execution_count": null,
      "outputs": []
    },
    {
      "cell_type": "code",
      "metadata": {
        "colab": {
          "base_uri": "https://localhost:8080/",
          "height": 309
        },
        "id": "VRI1_87gkU9n",
        "outputId": "0850f075-f82b-4706-b3a2-973b3aceb676"
      },
      "source": [
        "for data in [co2EmissionDf,coalUsageDf,fossilFuelDf,growthRateDf,greenHouseEmissionDf,povertyRateDf,unemploymentDf]:\n",
        "  df = merge_data(df, data)\n",
        "\n",
        "df.head()"
      ],
      "execution_count": null,
      "outputs": [
        {
          "output_type": "execute_result",
          "data": {
            "text/html": [
              "<div>\n",
              "<style scoped>\n",
              "    .dataframe tbody tr th:only-of-type {\n",
              "        vertical-align: middle;\n",
              "    }\n",
              "\n",
              "    .dataframe tbody tr th {\n",
              "        vertical-align: top;\n",
              "    }\n",
              "\n",
              "    .dataframe thead th {\n",
              "        text-align: right;\n",
              "    }\n",
              "</style>\n",
              "<table border=\"1\" class=\"dataframe\">\n",
              "  <thead>\n",
              "    <tr style=\"text-align: right;\">\n",
              "      <th></th>\n",
              "      <th>date</th>\n",
              "      <th>KT_CO2_x</th>\n",
              "      <th>Metric_TON_PerCapita</th>\n",
              "      <th>Elect_frm_Coal_Percent</th>\n",
              "      <th>Elect_Annual_Change</th>\n",
              "      <th>Energy_Fossil_Use_Percent</th>\n",
              "      <th>Fossil_Enr_Annual_Change</th>\n",
              "      <th>GDP_Growth_Percent</th>\n",
              "      <th>Growth_Annual_Change</th>\n",
              "      <th>KT_CO2_y</th>\n",
              "      <th>CO2_Annual_Change</th>\n",
              "      <th>percentage_below_poverty</th>\n",
              "      <th>poverty_percent_Change</th>\n",
              "      <th>Unemployment_Rate</th>\n",
              "      <th>Unemployment_Annual_Change</th>\n",
              "    </tr>\n",
              "  </thead>\n",
              "  <tbody>\n",
              "    <tr>\n",
              "      <th>0</th>\n",
              "      <td>1900-01-01</td>\n",
              "      <td>NaN</td>\n",
              "      <td>NaN</td>\n",
              "      <td>NaN</td>\n",
              "      <td>NaN</td>\n",
              "      <td>NaN</td>\n",
              "      <td>NaN</td>\n",
              "      <td>NaN</td>\n",
              "      <td>NaN</td>\n",
              "      <td>NaN</td>\n",
              "      <td>NaN</td>\n",
              "      <td>NaN</td>\n",
              "      <td>NaN</td>\n",
              "      <td>NaN</td>\n",
              "      <td>NaN</td>\n",
              "    </tr>\n",
              "    <tr>\n",
              "      <th>1</th>\n",
              "      <td>1900-01-02</td>\n",
              "      <td>NaN</td>\n",
              "      <td>NaN</td>\n",
              "      <td>NaN</td>\n",
              "      <td>NaN</td>\n",
              "      <td>NaN</td>\n",
              "      <td>NaN</td>\n",
              "      <td>NaN</td>\n",
              "      <td>NaN</td>\n",
              "      <td>NaN</td>\n",
              "      <td>NaN</td>\n",
              "      <td>NaN</td>\n",
              "      <td>NaN</td>\n",
              "      <td>NaN</td>\n",
              "      <td>NaN</td>\n",
              "    </tr>\n",
              "    <tr>\n",
              "      <th>2</th>\n",
              "      <td>1900-01-03</td>\n",
              "      <td>NaN</td>\n",
              "      <td>NaN</td>\n",
              "      <td>NaN</td>\n",
              "      <td>NaN</td>\n",
              "      <td>NaN</td>\n",
              "      <td>NaN</td>\n",
              "      <td>NaN</td>\n",
              "      <td>NaN</td>\n",
              "      <td>NaN</td>\n",
              "      <td>NaN</td>\n",
              "      <td>NaN</td>\n",
              "      <td>NaN</td>\n",
              "      <td>NaN</td>\n",
              "      <td>NaN</td>\n",
              "    </tr>\n",
              "    <tr>\n",
              "      <th>3</th>\n",
              "      <td>1900-01-04</td>\n",
              "      <td>NaN</td>\n",
              "      <td>NaN</td>\n",
              "      <td>NaN</td>\n",
              "      <td>NaN</td>\n",
              "      <td>NaN</td>\n",
              "      <td>NaN</td>\n",
              "      <td>NaN</td>\n",
              "      <td>NaN</td>\n",
              "      <td>NaN</td>\n",
              "      <td>NaN</td>\n",
              "      <td>NaN</td>\n",
              "      <td>NaN</td>\n",
              "      <td>NaN</td>\n",
              "      <td>NaN</td>\n",
              "    </tr>\n",
              "    <tr>\n",
              "      <th>4</th>\n",
              "      <td>1900-01-05</td>\n",
              "      <td>NaN</td>\n",
              "      <td>NaN</td>\n",
              "      <td>NaN</td>\n",
              "      <td>NaN</td>\n",
              "      <td>NaN</td>\n",
              "      <td>NaN</td>\n",
              "      <td>NaN</td>\n",
              "      <td>NaN</td>\n",
              "      <td>NaN</td>\n",
              "      <td>NaN</td>\n",
              "      <td>NaN</td>\n",
              "      <td>NaN</td>\n",
              "      <td>NaN</td>\n",
              "      <td>NaN</td>\n",
              "    </tr>\n",
              "  </tbody>\n",
              "</table>\n",
              "</div>"
            ],
            "text/plain": [
              "         date  KT_CO2_x  ...  Unemployment_Rate  Unemployment_Annual_Change\n",
              "0  1900-01-01       NaN  ...                NaN                         NaN\n",
              "1  1900-01-02       NaN  ...                NaN                         NaN\n",
              "2  1900-01-03       NaN  ...                NaN                         NaN\n",
              "3  1900-01-04       NaN  ...                NaN                         NaN\n",
              "4  1900-01-05       NaN  ...                NaN                         NaN\n",
              "\n",
              "[5 rows x 15 columns]"
            ]
          },
          "metadata": {
            "tags": []
          },
          "execution_count": 87
        }
      ]
    },
    {
      "cell_type": "code",
      "metadata": {
        "colab": {
          "base_uri": "https://localhost:8080/"
        },
        "id": "WIBPmfA1S4Sz",
        "outputId": "aa923f1f-3a68-47da-c32e-9d2016a08fb0"
      },
      "source": [
        "df.columns"
      ],
      "execution_count": null,
      "outputs": [
        {
          "output_type": "execute_result",
          "data": {
            "text/plain": [
              "Index(['date', 'KT_CO2_x', 'Metric_TON_PerCapita', 'Elect_frm_Coal_Percent',\n",
              "       'Elect_Annual_Change', 'Energy_Fossil_Use_Percent',\n",
              "       'Fossil_Enr_Annual_Change', 'GDP_Growth_Percent',\n",
              "       'Growth_Annual_Change', 'KT_CO2_y', 'CO2_Annual_Change ',\n",
              "       'percentage_below_poverty', 'poverty_percent_Change',\n",
              "       'Unemployment_Rate', 'Unemployment_Annual_Change'],\n",
              "      dtype='object')"
            ]
          },
          "metadata": {
            "tags": []
          },
          "execution_count": 88
        }
      ]
    },
    {
      "cell_type": "code",
      "metadata": {
        "colab": {
          "base_uri": "https://localhost:8080/",
          "height": 1000
        },
        "id": "vPNR4wo4hKw0",
        "outputId": "8ee790d4-dbbe-40e1-db46-0f1cc5c027a0"
      },
      "source": [
        "column_names = ['KT_CO2_x', 'Metric_TON_PerCapita', 'Elect_frm_Coal_Percent',\n",
        "       'Elect_Annual_Change', 'Energy_Fossil_Use_Percent',\n",
        "       'Fossil_Enr_Annual_Change', 'GDP_Growth_Percent',\n",
        "       'Growth_Annual_Change', 'KT_CO2_y', 'CO2_Annual_Change ',\n",
        "       'percentage_below_poverty', 'poverty_percent_Change',\n",
        "       'Unemployment_Rate', 'Unemployment_Annual_Change']\n",
        "df = df.dropna(subset=column_names, how='all')\n",
        "df.head(200)"
      ],
      "execution_count": null,
      "outputs": [
        {
          "output_type": "execute_result",
          "data": {
            "text/html": [
              "<div>\n",
              "<style scoped>\n",
              "    .dataframe tbody tr th:only-of-type {\n",
              "        vertical-align: middle;\n",
              "    }\n",
              "\n",
              "    .dataframe tbody tr th {\n",
              "        vertical-align: top;\n",
              "    }\n",
              "\n",
              "    .dataframe thead th {\n",
              "        text-align: right;\n",
              "    }\n",
              "</style>\n",
              "<table border=\"1\" class=\"dataframe\">\n",
              "  <thead>\n",
              "    <tr style=\"text-align: right;\">\n",
              "      <th></th>\n",
              "      <th>date</th>\n",
              "      <th>KT_CO2_x</th>\n",
              "      <th>Metric_TON_PerCapita</th>\n",
              "      <th>Elect_frm_Coal_Percent</th>\n",
              "      <th>Elect_Annual_Change</th>\n",
              "      <th>Energy_Fossil_Use_Percent</th>\n",
              "      <th>Fossil_Enr_Annual_Change</th>\n",
              "      <th>GDP_Growth_Percent</th>\n",
              "      <th>Growth_Annual_Change</th>\n",
              "      <th>KT_CO2_y</th>\n",
              "      <th>CO2_Annual_Change</th>\n",
              "      <th>percentage_below_poverty</th>\n",
              "      <th>poverty_percent_Change</th>\n",
              "      <th>Unemployment_Rate</th>\n",
              "      <th>Unemployment_Annual_Change</th>\n",
              "    </tr>\n",
              "  </thead>\n",
              "  <tbody>\n",
              "    <tr>\n",
              "      <th>22279</th>\n",
              "      <td>1960-12-31</td>\n",
              "      <td>2890696.100</td>\n",
              "      <td>15.9998</td>\n",
              "      <td>53.9120</td>\n",
              "      <td>0.00</td>\n",
              "      <td>95.5257</td>\n",
              "      <td>0.00</td>\n",
              "      <td>NaN</td>\n",
              "      <td>NaN</td>\n",
              "      <td>NaN</td>\n",
              "      <td>NaN</td>\n",
              "      <td>NaN</td>\n",
              "      <td>NaN</td>\n",
              "      <td>NaN</td>\n",
              "      <td>NaN</td>\n",
              "    </tr>\n",
              "    <tr>\n",
              "      <th>22644</th>\n",
              "      <td>1961-12-31</td>\n",
              "      <td>2880505.507</td>\n",
              "      <td>15.6813</td>\n",
              "      <td>53.7305</td>\n",
              "      <td>-0.18</td>\n",
              "      <td>95.5668</td>\n",
              "      <td>0.04</td>\n",
              "      <td>2.3000</td>\n",
              "      <td>0.00</td>\n",
              "      <td>NaN</td>\n",
              "      <td>NaN</td>\n",
              "      <td>NaN</td>\n",
              "      <td>NaN</td>\n",
              "      <td>NaN</td>\n",
              "      <td>NaN</td>\n",
              "    </tr>\n",
              "    <tr>\n",
              "      <th>23009</th>\n",
              "      <td>1962-12-31</td>\n",
              "      <td>2987207.873</td>\n",
              "      <td>16.0139</td>\n",
              "      <td>53.2502</td>\n",
              "      <td>-0.48</td>\n",
              "      <td>95.6055</td>\n",
              "      <td>0.04</td>\n",
              "      <td>6.1000</td>\n",
              "      <td>3.80</td>\n",
              "      <td>NaN</td>\n",
              "      <td>NaN</td>\n",
              "      <td>NaN</td>\n",
              "      <td>NaN</td>\n",
              "      <td>NaN</td>\n",
              "      <td>NaN</td>\n",
              "    </tr>\n",
              "    <tr>\n",
              "      <th>23374</th>\n",
              "      <td>1963-12-31</td>\n",
              "      <td>3119230.874</td>\n",
              "      <td>16.4828</td>\n",
              "      <td>54.3901</td>\n",
              "      <td>1.14</td>\n",
              "      <td>95.7693</td>\n",
              "      <td>0.16</td>\n",
              "      <td>4.4000</td>\n",
              "      <td>-1.70</td>\n",
              "      <td>NaN</td>\n",
              "      <td>NaN</td>\n",
              "      <td>NaN</td>\n",
              "      <td>NaN</td>\n",
              "      <td>NaN</td>\n",
              "      <td>NaN</td>\n",
              "    </tr>\n",
              "    <tr>\n",
              "      <th>23740</th>\n",
              "      <td>1964-12-31</td>\n",
              "      <td>3255995.306</td>\n",
              "      <td>16.9681</td>\n",
              "      <td>54.0154</td>\n",
              "      <td>-0.37</td>\n",
              "      <td>95.8016</td>\n",
              "      <td>0.03</td>\n",
              "      <td>5.8000</td>\n",
              "      <td>1.40</td>\n",
              "      <td>NaN</td>\n",
              "      <td>NaN</td>\n",
              "      <td>NaN</td>\n",
              "      <td>NaN</td>\n",
              "      <td>NaN</td>\n",
              "      <td>NaN</td>\n",
              "    </tr>\n",
              "    <tr>\n",
              "      <th>24105</th>\n",
              "      <td>1965-12-31</td>\n",
              "      <td>3390922.571</td>\n",
              "      <td>17.4517</td>\n",
              "      <td>54.6301</td>\n",
              "      <td>0.61</td>\n",
              "      <td>95.8602</td>\n",
              "      <td>0.06</td>\n",
              "      <td>6.4000</td>\n",
              "      <td>0.60</td>\n",
              "      <td>NaN</td>\n",
              "      <td>NaN</td>\n",
              "      <td>NaN</td>\n",
              "      <td>NaN</td>\n",
              "      <td>NaN</td>\n",
              "      <td>NaN</td>\n",
              "    </tr>\n",
              "    <tr>\n",
              "      <th>24470</th>\n",
              "      <td>1966-12-31</td>\n",
              "      <td>3561878.111</td>\n",
              "      <td>18.1211</td>\n",
              "      <td>54.0999</td>\n",
              "      <td>-0.53</td>\n",
              "      <td>95.9645</td>\n",
              "      <td>0.10</td>\n",
              "      <td>6.5000</td>\n",
              "      <td>0.10</td>\n",
              "      <td>NaN</td>\n",
              "      <td>NaN</td>\n",
              "      <td>NaN</td>\n",
              "      <td>NaN</td>\n",
              "      <td>NaN</td>\n",
              "      <td>NaN</td>\n",
              "    </tr>\n",
              "    <tr>\n",
              "      <th>24835</th>\n",
              "      <td>1967-12-31</td>\n",
              "      <td>3695708.943</td>\n",
              "      <td>18.5983</td>\n",
              "      <td>52.4451</td>\n",
              "      <td>-1.65</td>\n",
              "      <td>95.9822</td>\n",
              "      <td>0.02</td>\n",
              "      <td>2.5000</td>\n",
              "      <td>-4.00</td>\n",
              "      <td>NaN</td>\n",
              "      <td>NaN</td>\n",
              "      <td>NaN</td>\n",
              "      <td>NaN</td>\n",
              "      <td>NaN</td>\n",
              "      <td>NaN</td>\n",
              "    </tr>\n",
              "    <tr>\n",
              "      <th>25201</th>\n",
              "      <td>1968-12-31</td>\n",
              "      <td>3831354.940</td>\n",
              "      <td>19.0894</td>\n",
              "      <td>52.0592</td>\n",
              "      <td>-0.39</td>\n",
              "      <td>95.9226</td>\n",
              "      <td>-0.06</td>\n",
              "      <td>4.8000</td>\n",
              "      <td>2.30</td>\n",
              "      <td>NaN</td>\n",
              "      <td>NaN</td>\n",
              "      <td>NaN</td>\n",
              "      <td>NaN</td>\n",
              "      <td>NaN</td>\n",
              "      <td>NaN</td>\n",
              "    </tr>\n",
              "    <tr>\n",
              "      <th>25566</th>\n",
              "      <td>1969-12-31</td>\n",
              "      <td>4024748.853</td>\n",
              "      <td>19.8579</td>\n",
              "      <td>49.4470</td>\n",
              "      <td>-2.61</td>\n",
              "      <td>95.8587</td>\n",
              "      <td>-0.06</td>\n",
              "      <td>3.1000</td>\n",
              "      <td>-1.70</td>\n",
              "      <td>NaN</td>\n",
              "      <td>NaN</td>\n",
              "      <td>NaN</td>\n",
              "      <td>NaN</td>\n",
              "      <td>NaN</td>\n",
              "      <td>NaN</td>\n",
              "    </tr>\n",
              "    <tr>\n",
              "      <th>25931</th>\n",
              "      <td>1970-12-31</td>\n",
              "      <td>4328904.501</td>\n",
              "      <td>21.1113</td>\n",
              "      <td>46.3873</td>\n",
              "      <td>-3.06</td>\n",
              "      <td>95.9188</td>\n",
              "      <td>0.06</td>\n",
              "      <td>-0.3228</td>\n",
              "      <td>-3.42</td>\n",
              "      <td>5.400504e+06</td>\n",
              "      <td>0.00</td>\n",
              "      <td>NaN</td>\n",
              "      <td>NaN</td>\n",
              "      <td>NaN</td>\n",
              "      <td>NaN</td>\n",
              "    </tr>\n",
              "    <tr>\n",
              "      <th>26296</th>\n",
              "      <td>1971-12-31</td>\n",
              "      <td>4356770.034</td>\n",
              "      <td>20.9802</td>\n",
              "      <td>44.7880</td>\n",
              "      <td>-1.60</td>\n",
              "      <td>95.6438</td>\n",
              "      <td>-0.28</td>\n",
              "      <td>3.2934</td>\n",
              "      <td>3.62</td>\n",
              "      <td>5.440421e+06</td>\n",
              "      <td>0.74</td>\n",
              "      <td>NaN</td>\n",
              "      <td>NaN</td>\n",
              "      <td>NaN</td>\n",
              "      <td>NaN</td>\n",
              "    </tr>\n",
              "    <tr>\n",
              "      <th>26662</th>\n",
              "      <td>1972-12-31</td>\n",
              "      <td>4564952.958</td>\n",
              "      <td>21.7486</td>\n",
              "      <td>44.5663</td>\n",
              "      <td>-0.22</td>\n",
              "      <td>95.3668</td>\n",
              "      <td>-0.28</td>\n",
              "      <td>5.2589</td>\n",
              "      <td>1.97</td>\n",
              "      <td>5.704297e+06</td>\n",
              "      <td>4.85</td>\n",
              "      <td>NaN</td>\n",
              "      <td>NaN</td>\n",
              "      <td>NaN</td>\n",
              "      <td>NaN</td>\n",
              "    </tr>\n",
              "    <tr>\n",
              "      <th>27027</th>\n",
              "      <td>1973-12-31</td>\n",
              "      <td>4770194.948</td>\n",
              "      <td>22.5106</td>\n",
              "      <td>46.1641</td>\n",
              "      <td>1.60</td>\n",
              "      <td>94.9772</td>\n",
              "      <td>-0.39</td>\n",
              "      <td>5.6457</td>\n",
              "      <td>0.39</td>\n",
              "      <td>5.912971e+06</td>\n",
              "      <td>3.66</td>\n",
              "      <td>NaN</td>\n",
              "      <td>NaN</td>\n",
              "      <td>NaN</td>\n",
              "      <td>NaN</td>\n",
              "    </tr>\n",
              "    <tr>\n",
              "      <th>27392</th>\n",
              "      <td>1974-12-31</td>\n",
              "      <td>4598487.673</td>\n",
              "      <td>21.5029</td>\n",
              "      <td>44.1765</td>\n",
              "      <td>-1.99</td>\n",
              "      <td>94.1565</td>\n",
              "      <td>-0.82</td>\n",
              "      <td>-0.5405</td>\n",
              "      <td>-6.19</td>\n",
              "      <td>5.756864e+06</td>\n",
              "      <td>-2.64</td>\n",
              "      <td>1.7</td>\n",
              "      <td>0.0</td>\n",
              "      <td>NaN</td>\n",
              "      <td>NaN</td>\n",
              "    </tr>\n",
              "    <tr>\n",
              "      <th>27757</th>\n",
              "      <td>1975-12-31</td>\n",
              "      <td>4406329.539</td>\n",
              "      <td>20.4022</td>\n",
              "      <td>44.2954</td>\n",
              "      <td>0.12</td>\n",
              "      <td>93.0980</td>\n",
              "      <td>-1.06</td>\n",
              "      <td>-0.2055</td>\n",
              "      <td>0.34</td>\n",
              "      <td>5.539255e+06</td>\n",
              "      <td>-3.78</td>\n",
              "      <td>NaN</td>\n",
              "      <td>NaN</td>\n",
              "      <td>NaN</td>\n",
              "      <td>NaN</td>\n",
              "    </tr>\n",
              "    <tr>\n",
              "      <th>28123</th>\n",
              "      <td>1976-12-31</td>\n",
              "      <td>4613100.668</td>\n",
              "      <td>21.1576</td>\n",
              "      <td>46.1709</td>\n",
              "      <td>1.88</td>\n",
              "      <td>93.0056</td>\n",
              "      <td>-0.09</td>\n",
              "      <td>5.3881</td>\n",
              "      <td>5.59</td>\n",
              "      <td>5.868460e+06</td>\n",
              "      <td>5.94</td>\n",
              "      <td>NaN</td>\n",
              "      <td>NaN</td>\n",
              "      <td>NaN</td>\n",
              "      <td>NaN</td>\n",
              "    </tr>\n",
              "    <tr>\n",
              "      <th>28488</th>\n",
              "      <td>1977-12-31</td>\n",
              "      <td>4742292.745</td>\n",
              "      <td>21.5325</td>\n",
              "      <td>46.1130</td>\n",
              "      <td>-0.06</td>\n",
              "      <td>92.4223</td>\n",
              "      <td>-0.58</td>\n",
              "      <td>4.6242</td>\n",
              "      <td>-0.76</td>\n",
              "      <td>6.048233e+06</td>\n",
              "      <td>3.06</td>\n",
              "      <td>NaN</td>\n",
              "      <td>NaN</td>\n",
              "      <td>NaN</td>\n",
              "      <td>NaN</td>\n",
              "    </tr>\n",
              "    <tr>\n",
              "      <th>28853</th>\n",
              "      <td>1978-12-31</td>\n",
              "      <td>4890861.250</td>\n",
              "      <td>21.9730</td>\n",
              "      <td>44.0051</td>\n",
              "      <td>-2.11</td>\n",
              "      <td>91.7438</td>\n",
              "      <td>-0.68</td>\n",
              "      <td>5.5353</td>\n",
              "      <td>0.91</td>\n",
              "      <td>6.054465e+06</td>\n",
              "      <td>0.10</td>\n",
              "      <td>NaN</td>\n",
              "      <td>NaN</td>\n",
              "      <td>NaN</td>\n",
              "      <td>NaN</td>\n",
              "    </tr>\n",
              "    <tr>\n",
              "      <th>29218</th>\n",
              "      <td>1979-12-31</td>\n",
              "      <td>4901796.244</td>\n",
              "      <td>21.7804</td>\n",
              "      <td>47.6674</td>\n",
              "      <td>3.66</td>\n",
              "      <td>91.8029</td>\n",
              "      <td>0.06</td>\n",
              "      <td>3.1662</td>\n",
              "      <td>-2.37</td>\n",
              "      <td>6.135463e+06</td>\n",
              "      <td>1.34</td>\n",
              "      <td>1.2</td>\n",
              "      <td>-0.5</td>\n",
              "      <td>NaN</td>\n",
              "      <td>NaN</td>\n",
              "    </tr>\n",
              "    <tr>\n",
              "      <th>29584</th>\n",
              "      <td>1980-12-31</td>\n",
              "      <td>4723209.677</td>\n",
              "      <td>20.7865</td>\n",
              "      <td>51.2034</td>\n",
              "      <td>3.54</td>\n",
              "      <td>91.4261</td>\n",
              "      <td>-0.38</td>\n",
              "      <td>-0.2568</td>\n",
              "      <td>-3.42</td>\n",
              "      <td>5.896083e+06</td>\n",
              "      <td>-3.90</td>\n",
              "      <td>NaN</td>\n",
              "      <td>NaN</td>\n",
              "      <td>NaN</td>\n",
              "      <td>NaN</td>\n",
              "    </tr>\n",
              "    <tr>\n",
              "      <th>29949</th>\n",
              "      <td>1981-12-31</td>\n",
              "      <td>4535800.308</td>\n",
              "      <td>19.7668</td>\n",
              "      <td>52.8278</td>\n",
              "      <td>1.62</td>\n",
              "      <td>90.8319</td>\n",
              "      <td>-0.59</td>\n",
              "      <td>2.5377</td>\n",
              "      <td>2.79</td>\n",
              "      <td>5.830249e+06</td>\n",
              "      <td>-1.12</td>\n",
              "      <td>NaN</td>\n",
              "      <td>NaN</td>\n",
              "      <td>NaN</td>\n",
              "      <td>NaN</td>\n",
              "    </tr>\n",
              "    <tr>\n",
              "      <th>30314</th>\n",
              "      <td>1982-12-31</td>\n",
              "      <td>4306748.487</td>\n",
              "      <td>18.5905</td>\n",
              "      <td>53.6796</td>\n",
              "      <td>0.85</td>\n",
              "      <td>90.0431</td>\n",
              "      <td>-0.79</td>\n",
              "      <td>-1.8029</td>\n",
              "      <td>-4.34</td>\n",
              "      <td>5.534118e+06</td>\n",
              "      <td>-5.08</td>\n",
              "      <td>NaN</td>\n",
              "      <td>NaN</td>\n",
              "      <td>NaN</td>\n",
              "      <td>NaN</td>\n",
              "    </tr>\n",
              "    <tr>\n",
              "      <th>30679</th>\n",
              "      <td>1983-12-31</td>\n",
              "      <td>4341878.347</td>\n",
              "      <td>18.5715</td>\n",
              "      <td>55.0406</td>\n",
              "      <td>1.36</td>\n",
              "      <td>89.4551</td>\n",
              "      <td>-0.59</td>\n",
              "      <td>4.5839</td>\n",
              "      <td>6.39</td>\n",
              "      <td>5.524778e+06</td>\n",
              "      <td>-0.17</td>\n",
              "      <td>NaN</td>\n",
              "      <td>NaN</td>\n",
              "      <td>NaN</td>\n",
              "      <td>NaN</td>\n",
              "    </tr>\n",
              "    <tr>\n",
              "      <th>31045</th>\n",
              "      <td>1984-12-31</td>\n",
              "      <td>4475192.132</td>\n",
              "      <td>18.9768</td>\n",
              "      <td>56.0523</td>\n",
              "      <td>1.01</td>\n",
              "      <td>88.9010</td>\n",
              "      <td>-0.55</td>\n",
              "      <td>7.2366</td>\n",
              "      <td>2.65</td>\n",
              "      <td>5.761217e+06</td>\n",
              "      <td>4.28</td>\n",
              "      <td>NaN</td>\n",
              "      <td>NaN</td>\n",
              "      <td>NaN</td>\n",
              "      <td>NaN</td>\n",
              "    </tr>\n",
              "    <tr>\n",
              "      <th>31410</th>\n",
              "      <td>1985-12-31</td>\n",
              "      <td>4492555.377</td>\n",
              "      <td>18.8823</td>\n",
              "      <td>57.2204</td>\n",
              "      <td>1.17</td>\n",
              "      <td>88.3017</td>\n",
              "      <td>-0.60</td>\n",
              "      <td>4.1697</td>\n",
              "      <td>-3.07</td>\n",
              "      <td>5.776898e+06</td>\n",
              "      <td>0.27</td>\n",
              "      <td>NaN</td>\n",
              "      <td>NaN</td>\n",
              "      <td>NaN</td>\n",
              "      <td>NaN</td>\n",
              "    </tr>\n",
              "    <tr>\n",
              "      <th>31775</th>\n",
              "      <td>1986-12-31</td>\n",
              "      <td>4495463.308</td>\n",
              "      <td>18.7207</td>\n",
              "      <td>56.1740</td>\n",
              "      <td>-1.05</td>\n",
              "      <td>87.6566</td>\n",
              "      <td>-0.65</td>\n",
              "      <td>3.4627</td>\n",
              "      <td>-0.71</td>\n",
              "      <td>5.731026e+06</td>\n",
              "      <td>-0.79</td>\n",
              "      <td>1.2</td>\n",
              "      <td>0.0</td>\n",
              "      <td>NaN</td>\n",
              "      <td>NaN</td>\n",
              "    </tr>\n",
              "    <tr>\n",
              "      <th>32140</th>\n",
              "      <td>1987-12-31</td>\n",
              "      <td>4688373.177</td>\n",
              "      <td>19.3503</td>\n",
              "      <td>57.6422</td>\n",
              "      <td>1.47</td>\n",
              "      <td>87.3778</td>\n",
              "      <td>-0.28</td>\n",
              "      <td>3.4596</td>\n",
              "      <td>0.00</td>\n",
              "      <td>5.743633e+06</td>\n",
              "      <td>0.22</td>\n",
              "      <td>NaN</td>\n",
              "      <td>NaN</td>\n",
              "      <td>NaN</td>\n",
              "      <td>NaN</td>\n",
              "    </tr>\n",
              "    <tr>\n",
              "      <th>32506</th>\n",
              "      <td>1988-12-31</td>\n",
              "      <td>4892526.068</td>\n",
              "      <td>20.0104</td>\n",
              "      <td>57.6793</td>\n",
              "      <td>0.04</td>\n",
              "      <td>87.0772</td>\n",
              "      <td>-0.30</td>\n",
              "      <td>4.1770</td>\n",
              "      <td>0.72</td>\n",
              "      <td>6.185748e+06</td>\n",
              "      <td>7.70</td>\n",
              "      <td>NaN</td>\n",
              "      <td>NaN</td>\n",
              "      <td>NaN</td>\n",
              "      <td>NaN</td>\n",
              "    </tr>\n",
              "    <tr>\n",
              "      <th>32871</th>\n",
              "      <td>1989-12-31</td>\n",
              "      <td>4955081.421</td>\n",
              "      <td>20.0758</td>\n",
              "      <td>54.1160</td>\n",
              "      <td>-3.56</td>\n",
              "      <td>87.0933</td>\n",
              "      <td>0.02</td>\n",
              "      <td>3.6727</td>\n",
              "      <td>-0.50</td>\n",
              "      <td>6.221392e+06</td>\n",
              "      <td>0.58</td>\n",
              "      <td>NaN</td>\n",
              "      <td>NaN</td>\n",
              "      <td>NaN</td>\n",
              "      <td>NaN</td>\n",
              "    </tr>\n",
              "    <tr>\n",
              "      <th>33236</th>\n",
              "      <td>1990-12-31</td>\n",
              "      <td>4823403.118</td>\n",
              "      <td>19.3228</td>\n",
              "      <td>53.0674</td>\n",
              "      <td>-1.05</td>\n",
              "      <td>86.4378</td>\n",
              "      <td>-0.66</td>\n",
              "      <td>1.8860</td>\n",
              "      <td>-1.79</td>\n",
              "      <td>6.136094e+06</td>\n",
              "      <td>-1.37</td>\n",
              "      <td>NaN</td>\n",
              "      <td>NaN</td>\n",
              "      <td>NaN</td>\n",
              "      <td>NaN</td>\n",
              "    </tr>\n",
              "    <tr>\n",
              "      <th>33601</th>\n",
              "      <td>1991-12-31</td>\n",
              "      <td>4820847.219</td>\n",
              "      <td>19.0562</td>\n",
              "      <td>52.6011</td>\n",
              "      <td>-0.47</td>\n",
              "      <td>85.6947</td>\n",
              "      <td>-0.74</td>\n",
              "      <td>-0.1083</td>\n",
              "      <td>-1.99</td>\n",
              "      <td>6.073644e+06</td>\n",
              "      <td>-1.02</td>\n",
              "      <td>1.2</td>\n",
              "      <td>0.0</td>\n",
              "      <td>6.800</td>\n",
              "      <td>0.00</td>\n",
              "    </tr>\n",
              "    <tr>\n",
              "      <th>33967</th>\n",
              "      <td>1992-12-31</td>\n",
              "      <td>4909533.614</td>\n",
              "      <td>19.1394</td>\n",
              "      <td>53.2400</td>\n",
              "      <td>0.64</td>\n",
              "      <td>85.5748</td>\n",
              "      <td>-0.12</td>\n",
              "      <td>3.5224</td>\n",
              "      <td>3.63</td>\n",
              "      <td>6.137498e+06</td>\n",
              "      <td>1.05</td>\n",
              "      <td>NaN</td>\n",
              "      <td>NaN</td>\n",
              "      <td>7.500</td>\n",
              "      <td>0.70</td>\n",
              "    </tr>\n",
              "    <tr>\n",
              "      <th>34332</th>\n",
              "      <td>1993-12-31</td>\n",
              "      <td>5028674.444</td>\n",
              "      <td>19.3471</td>\n",
              "      <td>53.4013</td>\n",
              "      <td>0.16</td>\n",
              "      <td>86.1180</td>\n",
              "      <td>0.54</td>\n",
              "      <td>2.7528</td>\n",
              "      <td>-0.77</td>\n",
              "      <td>6.282704e+06</td>\n",
              "      <td>2.37</td>\n",
              "      <td>NaN</td>\n",
              "      <td>NaN</td>\n",
              "      <td>6.900</td>\n",
              "      <td>-0.60</td>\n",
              "    </tr>\n",
              "    <tr>\n",
              "      <th>34697</th>\n",
              "      <td>1994-12-31</td>\n",
              "      <td>5094354.081</td>\n",
              "      <td>19.3609</td>\n",
              "      <td>52.5162</td>\n",
              "      <td>-0.89</td>\n",
              "      <td>85.9121</td>\n",
              "      <td>-0.21</td>\n",
              "      <td>4.0288</td>\n",
              "      <td>1.28</td>\n",
              "      <td>6.374979e+06</td>\n",
              "      <td>1.47</td>\n",
              "      <td>1.5</td>\n",
              "      <td>0.3</td>\n",
              "      <td>6.119</td>\n",
              "      <td>-0.78</td>\n",
              "    </tr>\n",
              "    <tr>\n",
              "      <th>35062</th>\n",
              "      <td>1995-12-31</td>\n",
              "      <td>5132919.920</td>\n",
              "      <td>19.2765</td>\n",
              "      <td>51.4993</td>\n",
              "      <td>-1.02</td>\n",
              "      <td>85.4693</td>\n",
              "      <td>-0.44</td>\n",
              "      <td>2.6843</td>\n",
              "      <td>-1.34</td>\n",
              "      <td>6.365297e+06</td>\n",
              "      <td>-0.15</td>\n",
              "      <td>NaN</td>\n",
              "      <td>NaN</td>\n",
              "      <td>5.650</td>\n",
              "      <td>-0.47</td>\n",
              "    </tr>\n",
              "    <tr>\n",
              "      <th>35428</th>\n",
              "      <td>1996-12-31</td>\n",
              "      <td>5252112.088</td>\n",
              "      <td>19.4960</td>\n",
              "      <td>52.7220</td>\n",
              "      <td>1.22</td>\n",
              "      <td>85.5101</td>\n",
              "      <td>0.04</td>\n",
              "      <td>3.7725</td>\n",
              "      <td>1.09</td>\n",
              "      <td>6.577713e+06</td>\n",
              "      <td>3.34</td>\n",
              "      <td>NaN</td>\n",
              "      <td>NaN</td>\n",
              "      <td>5.451</td>\n",
              "      <td>-0.20</td>\n",
              "    </tr>\n",
              "    <tr>\n",
              "      <th>35793</th>\n",
              "      <td>1997-12-31</td>\n",
              "      <td>5368715.354</td>\n",
              "      <td>19.6904</td>\n",
              "      <td>53.8095</td>\n",
              "      <td>1.09</td>\n",
              "      <td>86.4565</td>\n",
              "      <td>0.95</td>\n",
              "      <td>4.4472</td>\n",
              "      <td>0.67</td>\n",
              "      <td>6.724414e+06</td>\n",
              "      <td>2.23</td>\n",
              "      <td>1.2</td>\n",
              "      <td>-0.3</td>\n",
              "      <td>5.000</td>\n",
              "      <td>-0.45</td>\n",
              "    </tr>\n",
              "    <tr>\n",
              "      <th>36158</th>\n",
              "      <td>1998-12-31</td>\n",
              "      <td>5401010.623</td>\n",
              "      <td>19.5792</td>\n",
              "      <td>52.7351</td>\n",
              "      <td>-1.07</td>\n",
              "      <td>86.0866</td>\n",
              "      <td>-0.37</td>\n",
              "      <td>4.4814</td>\n",
              "      <td>0.03</td>\n",
              "      <td>6.749016e+06</td>\n",
              "      <td>0.37</td>\n",
              "      <td>NaN</td>\n",
              "      <td>NaN</td>\n",
              "      <td>4.510</td>\n",
              "      <td>-0.49</td>\n",
              "    </tr>\n",
              "    <tr>\n",
              "      <th>36523</th>\n",
              "      <td>1999-12-31</td>\n",
              "      <td>5504669.379</td>\n",
              "      <td>19.7272</td>\n",
              "      <td>52.1167</td>\n",
              "      <td>-0.62</td>\n",
              "      <td>85.7846</td>\n",
              "      <td>-0.30</td>\n",
              "      <td>4.7532</td>\n",
              "      <td>0.27</td>\n",
              "      <td>6.808138e+06</td>\n",
              "      <td>0.88</td>\n",
              "      <td>NaN</td>\n",
              "      <td>NaN</td>\n",
              "      <td>4.219</td>\n",
              "      <td>-0.29</td>\n",
              "    </tr>\n",
              "    <tr>\n",
              "      <th>36889</th>\n",
              "      <td>2000-12-31</td>\n",
              "      <td>5693684.894</td>\n",
              "      <td>20.1788</td>\n",
              "      <td>52.8952</td>\n",
              "      <td>0.78</td>\n",
              "      <td>85.8808</td>\n",
              "      <td>0.10</td>\n",
              "      <td>4.1275</td>\n",
              "      <td>-0.63</td>\n",
              "      <td>6.969124e+06</td>\n",
              "      <td>2.36</td>\n",
              "      <td>1.2</td>\n",
              "      <td>0.0</td>\n",
              "      <td>3.992</td>\n",
              "      <td>-0.23</td>\n",
              "    </tr>\n",
              "    <tr>\n",
              "      <th>37254</th>\n",
              "      <td>2001-12-31</td>\n",
              "      <td>5595794.329</td>\n",
              "      <td>19.6365</td>\n",
              "      <td>51.6334</td>\n",
              "      <td>-1.26</td>\n",
              "      <td>86.3460</td>\n",
              "      <td>0.47</td>\n",
              "      <td>0.9983</td>\n",
              "      <td>-3.13</td>\n",
              "      <td>6.821236e+06</td>\n",
              "      <td>-2.12</td>\n",
              "      <td>NaN</td>\n",
              "      <td>NaN</td>\n",
              "      <td>4.731</td>\n",
              "      <td>0.74</td>\n",
              "    </tr>\n",
              "    <tr>\n",
              "      <th>37619</th>\n",
              "      <td>2002-12-31</td>\n",
              "      <td>5641309.133</td>\n",
              "      <td>19.6134</td>\n",
              "      <td>50.6573</td>\n",
              "      <td>-0.98</td>\n",
              "      <td>86.2491</td>\n",
              "      <td>-0.10</td>\n",
              "      <td>1.7417</td>\n",
              "      <td>0.74</td>\n",
              "      <td>6.981787e+06</td>\n",
              "      <td>2.35</td>\n",
              "      <td>NaN</td>\n",
              "      <td>NaN</td>\n",
              "      <td>5.783</td>\n",
              "      <td>1.05</td>\n",
              "    </tr>\n",
              "    <tr>\n",
              "      <th>37984</th>\n",
              "      <td>2003-12-31</td>\n",
              "      <td>5675701.926</td>\n",
              "      <td>19.5641</td>\n",
              "      <td>51.3812</td>\n",
              "      <td>0.72</td>\n",
              "      <td>86.2784</td>\n",
              "      <td>0.03</td>\n",
              "      <td>2.8612</td>\n",
              "      <td>1.12</td>\n",
              "      <td>6.991255e+06</td>\n",
              "      <td>0.14</td>\n",
              "      <td>NaN</td>\n",
              "      <td>NaN</td>\n",
              "      <td>5.989</td>\n",
              "      <td>0.21</td>\n",
              "    </tr>\n",
              "    <tr>\n",
              "      <th>38350</th>\n",
              "      <td>2004-12-31</td>\n",
              "      <td>5756075.232</td>\n",
              "      <td>19.6584</td>\n",
              "      <td>50.3967</td>\n",
              "      <td>-0.98</td>\n",
              "      <td>86.1243</td>\n",
              "      <td>-0.15</td>\n",
              "      <td>3.7989</td>\n",
              "      <td>0.94</td>\n",
              "      <td>7.244272e+06</td>\n",
              "      <td>3.62</td>\n",
              "      <td>1.7</td>\n",
              "      <td>0.5</td>\n",
              "      <td>5.529</td>\n",
              "      <td>-0.46</td>\n",
              "    </tr>\n",
              "    <tr>\n",
              "      <th>38715</th>\n",
              "      <td>2005-12-31</td>\n",
              "      <td>5789727.291</td>\n",
              "      <td>19.5919</td>\n",
              "      <td>50.4571</td>\n",
              "      <td>0.06</td>\n",
              "      <td>86.0185</td>\n",
              "      <td>-0.11</td>\n",
              "      <td>3.5132</td>\n",
              "      <td>-0.29</td>\n",
              "      <td>7.182808e+06</td>\n",
              "      <td>-0.85</td>\n",
              "      <td>NaN</td>\n",
              "      <td>NaN</td>\n",
              "      <td>5.083</td>\n",
              "      <td>-0.45</td>\n",
              "    </tr>\n",
              "    <tr>\n",
              "      <th>39080</th>\n",
              "      <td>2006-12-31</td>\n",
              "      <td>5697285.888</td>\n",
              "      <td>19.0941</td>\n",
              "      <td>49.7729</td>\n",
              "      <td>-0.68</td>\n",
              "      <td>85.6265</td>\n",
              "      <td>-0.39</td>\n",
              "      <td>2.8550</td>\n",
              "      <td>-0.66</td>\n",
              "      <td>6.994087e+06</td>\n",
              "      <td>-2.63</td>\n",
              "      <td>NaN</td>\n",
              "      <td>NaN</td>\n",
              "      <td>4.623</td>\n",
              "      <td>-0.46</td>\n",
              "    </tr>\n",
              "    <tr>\n",
              "      <th>39445</th>\n",
              "      <td>2007-12-31</td>\n",
              "      <td>5789030.561</td>\n",
              "      <td>19.2179</td>\n",
              "      <td>48.9939</td>\n",
              "      <td>-0.78</td>\n",
              "      <td>85.6147</td>\n",
              "      <td>-0.01</td>\n",
              "      <td>1.8762</td>\n",
              "      <td>-0.98</td>\n",
              "      <td>7.128952e+06</td>\n",
              "      <td>1.93</td>\n",
              "      <td>1.5</td>\n",
              "      <td>-0.2</td>\n",
              "      <td>4.622</td>\n",
              "      <td>0.00</td>\n",
              "    </tr>\n",
              "    <tr>\n",
              "      <th>39811</th>\n",
              "      <td>2008-12-31</td>\n",
              "      <td>5614110.994</td>\n",
              "      <td>18.4618</td>\n",
              "      <td>49.1044</td>\n",
              "      <td>0.11</td>\n",
              "      <td>84.9682</td>\n",
              "      <td>-0.65</td>\n",
              "      <td>-0.1366</td>\n",
              "      <td>-2.01</td>\n",
              "      <td>6.648991e+06</td>\n",
              "      <td>-6.73</td>\n",
              "      <td>NaN</td>\n",
              "      <td>NaN</td>\n",
              "      <td>5.784</td>\n",
              "      <td>1.16</td>\n",
              "    </tr>\n",
              "    <tr>\n",
              "      <th>40176</th>\n",
              "      <td>2009-12-31</td>\n",
              "      <td>5263505.457</td>\n",
              "      <td>17.1577</td>\n",
              "      <td>45.4377</td>\n",
              "      <td>-3.67</td>\n",
              "      <td>84.1543</td>\n",
              "      <td>-0.81</td>\n",
              "      <td>-2.5368</td>\n",
              "      <td>-2.40</td>\n",
              "      <td>6.604069e+06</td>\n",
              "      <td>-0.68</td>\n",
              "      <td>NaN</td>\n",
              "      <td>NaN</td>\n",
              "      <td>9.254</td>\n",
              "      <td>3.47</td>\n",
              "    </tr>\n",
              "    <tr>\n",
              "      <th>40541</th>\n",
              "      <td>2010-12-31</td>\n",
              "      <td>5395532.125</td>\n",
              "      <td>17.4431</td>\n",
              "      <td>45.7976</td>\n",
              "      <td>0.36</td>\n",
              "      <td>84.1506</td>\n",
              "      <td>0.00</td>\n",
              "      <td>2.5638</td>\n",
              "      <td>5.10</td>\n",
              "      <td>6.713349e+06</td>\n",
              "      <td>1.65</td>\n",
              "      <td>1.7</td>\n",
              "      <td>0.2</td>\n",
              "      <td>9.633</td>\n",
              "      <td>0.38</td>\n",
              "    </tr>\n",
              "    <tr>\n",
              "      <th>40906</th>\n",
              "      <td>2011-12-31</td>\n",
              "      <td>5270047.385</td>\n",
              "      <td>16.9152</td>\n",
              "      <td>43.3458</td>\n",
              "      <td>-2.45</td>\n",
              "      <td>83.7141</td>\n",
              "      <td>-0.44</td>\n",
              "      <td>1.5508</td>\n",
              "      <td>-1.01</td>\n",
              "      <td>6.571654e+06</td>\n",
              "      <td>-2.11</td>\n",
              "      <td>NaN</td>\n",
              "      <td>NaN</td>\n",
              "      <td>8.949</td>\n",
              "      <td>-0.68</td>\n",
              "    </tr>\n",
              "    <tr>\n",
              "      <th>41272</th>\n",
              "      <td>2012-12-31</td>\n",
              "      <td>5081999.958</td>\n",
              "      <td>16.1934</td>\n",
              "      <td>38.4799</td>\n",
              "      <td>-4.87</td>\n",
              "      <td>83.4372</td>\n",
              "      <td>-0.28</td>\n",
              "      <td>2.2495</td>\n",
              "      <td>0.70</td>\n",
              "      <td>6.343841e+06</td>\n",
              "      <td>-3.47</td>\n",
              "      <td>NaN</td>\n",
              "      <td>NaN</td>\n",
              "      <td>8.069</td>\n",
              "      <td>-0.88</td>\n",
              "    </tr>\n",
              "    <tr>\n",
              "      <th>41637</th>\n",
              "      <td>2013-12-31</td>\n",
              "      <td>5170359.990</td>\n",
              "      <td>16.3622</td>\n",
              "      <td>39.9431</td>\n",
              "      <td>1.46</td>\n",
              "      <td>82.9405</td>\n",
              "      <td>-0.50</td>\n",
              "      <td>1.8421</td>\n",
              "      <td>-0.41</td>\n",
              "      <td>NaN</td>\n",
              "      <td>NaN</td>\n",
              "      <td>1.7</td>\n",
              "      <td>0.0</td>\n",
              "      <td>7.375</td>\n",
              "      <td>-0.69</td>\n",
              "    </tr>\n",
              "    <tr>\n",
              "      <th>42002</th>\n",
              "      <td>2014-12-31</td>\n",
              "      <td>5225412.661</td>\n",
              "      <td>16.4166</td>\n",
              "      <td>39.6507</td>\n",
              "      <td>-0.29</td>\n",
              "      <td>83.0890</td>\n",
              "      <td>0.15</td>\n",
              "      <td>2.5260</td>\n",
              "      <td>0.68</td>\n",
              "      <td>NaN</td>\n",
              "      <td>NaN</td>\n",
              "      <td>NaN</td>\n",
              "      <td>NaN</td>\n",
              "      <td>6.168</td>\n",
              "      <td>-1.21</td>\n",
              "    </tr>\n",
              "    <tr>\n",
              "      <th>42367</th>\n",
              "      <td>2015-12-31</td>\n",
              "      <td>5126913.374</td>\n",
              "      <td>15.9899</td>\n",
              "      <td>34.2327</td>\n",
              "      <td>-5.42</td>\n",
              "      <td>82.4278</td>\n",
              "      <td>-0.66</td>\n",
              "      <td>2.9080</td>\n",
              "      <td>0.38</td>\n",
              "      <td>NaN</td>\n",
              "      <td>NaN</td>\n",
              "      <td>NaN</td>\n",
              "      <td>NaN</td>\n",
              "      <td>5.280</td>\n",
              "      <td>-0.89</td>\n",
              "    </tr>\n",
              "    <tr>\n",
              "      <th>42733</th>\n",
              "      <td>2016-12-31</td>\n",
              "      <td>5006302.077</td>\n",
              "      <td>15.5022</td>\n",
              "      <td>NaN</td>\n",
              "      <td>NaN</td>\n",
              "      <td>NaN</td>\n",
              "      <td>NaN</td>\n",
              "      <td>1.6378</td>\n",
              "      <td>-1.27</td>\n",
              "      <td>NaN</td>\n",
              "      <td>NaN</td>\n",
              "      <td>1.7</td>\n",
              "      <td>0.0</td>\n",
              "      <td>4.869</td>\n",
              "      <td>-0.41</td>\n",
              "    </tr>\n",
              "    <tr>\n",
              "      <th>43098</th>\n",
              "      <td>2017-12-31</td>\n",
              "      <td>NaN</td>\n",
              "      <td>NaN</td>\n",
              "      <td>NaN</td>\n",
              "      <td>NaN</td>\n",
              "      <td>NaN</td>\n",
              "      <td>NaN</td>\n",
              "      <td>2.3698</td>\n",
              "      <td>0.73</td>\n",
              "      <td>NaN</td>\n",
              "      <td>NaN</td>\n",
              "      <td>NaN</td>\n",
              "      <td>NaN</td>\n",
              "      <td>4.355</td>\n",
              "      <td>-0.51</td>\n",
              "    </tr>\n",
              "    <tr>\n",
              "      <th>43463</th>\n",
              "      <td>2018-12-31</td>\n",
              "      <td>NaN</td>\n",
              "      <td>NaN</td>\n",
              "      <td>NaN</td>\n",
              "      <td>NaN</td>\n",
              "      <td>NaN</td>\n",
              "      <td>NaN</td>\n",
              "      <td>2.9273</td>\n",
              "      <td>0.56</td>\n",
              "      <td>NaN</td>\n",
              "      <td>NaN</td>\n",
              "      <td>NaN</td>\n",
              "      <td>NaN</td>\n",
              "      <td>3.896</td>\n",
              "      <td>-0.46</td>\n",
              "    </tr>\n",
              "    <tr>\n",
              "      <th>43828</th>\n",
              "      <td>2019-12-31</td>\n",
              "      <td>NaN</td>\n",
              "      <td>NaN</td>\n",
              "      <td>NaN</td>\n",
              "      <td>NaN</td>\n",
              "      <td>NaN</td>\n",
              "      <td>NaN</td>\n",
              "      <td>2.1612</td>\n",
              "      <td>-0.77</td>\n",
              "      <td>NaN</td>\n",
              "      <td>NaN</td>\n",
              "      <td>NaN</td>\n",
              "      <td>NaN</td>\n",
              "      <td>3.682</td>\n",
              "      <td>-0.21</td>\n",
              "    </tr>\n",
              "  </tbody>\n",
              "</table>\n",
              "</div>"
            ],
            "text/plain": [
              "             date     KT_CO2_x  ...  Unemployment_Rate  Unemployment_Annual_Change\n",
              "22279  1960-12-31  2890696.100  ...                NaN                         NaN\n",
              "22644  1961-12-31  2880505.507  ...                NaN                         NaN\n",
              "23009  1962-12-31  2987207.873  ...                NaN                         NaN\n",
              "23374  1963-12-31  3119230.874  ...                NaN                         NaN\n",
              "23740  1964-12-31  3255995.306  ...                NaN                         NaN\n",
              "24105  1965-12-31  3390922.571  ...                NaN                         NaN\n",
              "24470  1966-12-31  3561878.111  ...                NaN                         NaN\n",
              "24835  1967-12-31  3695708.943  ...                NaN                         NaN\n",
              "25201  1968-12-31  3831354.940  ...                NaN                         NaN\n",
              "25566  1969-12-31  4024748.853  ...                NaN                         NaN\n",
              "25931  1970-12-31  4328904.501  ...                NaN                         NaN\n",
              "26296  1971-12-31  4356770.034  ...                NaN                         NaN\n",
              "26662  1972-12-31  4564952.958  ...                NaN                         NaN\n",
              "27027  1973-12-31  4770194.948  ...                NaN                         NaN\n",
              "27392  1974-12-31  4598487.673  ...                NaN                         NaN\n",
              "27757  1975-12-31  4406329.539  ...                NaN                         NaN\n",
              "28123  1976-12-31  4613100.668  ...                NaN                         NaN\n",
              "28488  1977-12-31  4742292.745  ...                NaN                         NaN\n",
              "28853  1978-12-31  4890861.250  ...                NaN                         NaN\n",
              "29218  1979-12-31  4901796.244  ...                NaN                         NaN\n",
              "29584  1980-12-31  4723209.677  ...                NaN                         NaN\n",
              "29949  1981-12-31  4535800.308  ...                NaN                         NaN\n",
              "30314  1982-12-31  4306748.487  ...                NaN                         NaN\n",
              "30679  1983-12-31  4341878.347  ...                NaN                         NaN\n",
              "31045  1984-12-31  4475192.132  ...                NaN                         NaN\n",
              "31410  1985-12-31  4492555.377  ...                NaN                         NaN\n",
              "31775  1986-12-31  4495463.308  ...                NaN                         NaN\n",
              "32140  1987-12-31  4688373.177  ...                NaN                         NaN\n",
              "32506  1988-12-31  4892526.068  ...                NaN                         NaN\n",
              "32871  1989-12-31  4955081.421  ...                NaN                         NaN\n",
              "33236  1990-12-31  4823403.118  ...                NaN                         NaN\n",
              "33601  1991-12-31  4820847.219  ...              6.800                        0.00\n",
              "33967  1992-12-31  4909533.614  ...              7.500                        0.70\n",
              "34332  1993-12-31  5028674.444  ...              6.900                       -0.60\n",
              "34697  1994-12-31  5094354.081  ...              6.119                       -0.78\n",
              "35062  1995-12-31  5132919.920  ...              5.650                       -0.47\n",
              "35428  1996-12-31  5252112.088  ...              5.451                       -0.20\n",
              "35793  1997-12-31  5368715.354  ...              5.000                       -0.45\n",
              "36158  1998-12-31  5401010.623  ...              4.510                       -0.49\n",
              "36523  1999-12-31  5504669.379  ...              4.219                       -0.29\n",
              "36889  2000-12-31  5693684.894  ...              3.992                       -0.23\n",
              "37254  2001-12-31  5595794.329  ...              4.731                        0.74\n",
              "37619  2002-12-31  5641309.133  ...              5.783                        1.05\n",
              "37984  2003-12-31  5675701.926  ...              5.989                        0.21\n",
              "38350  2004-12-31  5756075.232  ...              5.529                       -0.46\n",
              "38715  2005-12-31  5789727.291  ...              5.083                       -0.45\n",
              "39080  2006-12-31  5697285.888  ...              4.623                       -0.46\n",
              "39445  2007-12-31  5789030.561  ...              4.622                        0.00\n",
              "39811  2008-12-31  5614110.994  ...              5.784                        1.16\n",
              "40176  2009-12-31  5263505.457  ...              9.254                        3.47\n",
              "40541  2010-12-31  5395532.125  ...              9.633                        0.38\n",
              "40906  2011-12-31  5270047.385  ...              8.949                       -0.68\n",
              "41272  2012-12-31  5081999.958  ...              8.069                       -0.88\n",
              "41637  2013-12-31  5170359.990  ...              7.375                       -0.69\n",
              "42002  2014-12-31  5225412.661  ...              6.168                       -1.21\n",
              "42367  2015-12-31  5126913.374  ...              5.280                       -0.89\n",
              "42733  2016-12-31  5006302.077  ...              4.869                       -0.41\n",
              "43098  2017-12-31          NaN  ...              4.355                       -0.51\n",
              "43463  2018-12-31          NaN  ...              3.896                       -0.46\n",
              "43828  2019-12-31          NaN  ...              3.682                       -0.21\n",
              "\n",
              "[60 rows x 15 columns]"
            ]
          },
          "metadata": {
            "tags": []
          },
          "execution_count": 89
        }
      ]
    },
    {
      "cell_type": "code",
      "metadata": {
        "id": "trmYMQMsmBHA"
      },
      "source": [
        "def fill_na(initialFrame, cols):\n",
        "  return initialFrame[cols].fillna(initialFrame[cols].mean())"
      ],
      "execution_count": null,
      "outputs": []
    },
    {
      "cell_type": "code",
      "metadata": {
        "id": "3qQ2nWntmYf5"
      },
      "source": [
        "for cols in column_names:\n",
        "  df[cols] = fill_na(df, cols)\n",
        "\n",
        "df.head(200)"
      ],
      "execution_count": null,
      "outputs": []
    },
    {
      "cell_type": "code",
      "metadata": {
        "id": "7pS-KMj5VGOC"
      },
      "source": [
        "df=df.drop(['date'], axis=1)\n",
        "dPts= df\n",
        "\n",
        "from sklearn.preprocessing import MinMaxScaler\n",
        "mms = MinMaxScaler()\n",
        "mms.fit(dPts)\n",
        "data_transformed = mms.transform(dPts)\n"
      ],
      "execution_count": null,
      "outputs": []
    },
    {
      "cell_type": "markdown",
      "metadata": {
        "id": "TZJIi0bF105M"
      },
      "source": [
        "#**Clustering Methods**"
      ]
    },
    {
      "cell_type": "markdown",
      "metadata": {
        "id": "ATXlo91SNMDp"
      },
      "source": [
        "#Spectral Clustering"
      ]
    },
    {
      "cell_type": "code",
      "metadata": {
        "colab": {
          "base_uri": "https://localhost:8080/"
        },
        "id": "EB6OVNoBNPYR",
        "outputId": "5bf80bb0-4e51-41f6-e7f0-a7b54b24ba26"
      },
      "source": [
        "from sklearn.cluster import SpectralClustering \n",
        "# Building the clustering model \n",
        "spectral_model_rbf = SpectralClustering(n_clusters = 3, affinity ='rbf') \n",
        "  \n",
        "# Training the model and Storing the predicted cluster labels \n",
        "labels_rbf = spectral_model_rbf.fit_predict(df) "
      ],
      "execution_count": null,
      "outputs": [
        {
          "output_type": "stream",
          "text": [
            "/usr/local/lib/python3.6/dist-packages/sklearn/manifold/_spectral_embedding.py:236: UserWarning: Graph is not fully connected, spectral embedding may not work as expected.\n",
            "  warnings.warn(\"Graph is not fully connected, spectral embedding\"\n"
          ],
          "name": "stderr"
        }
      ]
    },
    {
      "cell_type": "code",
      "metadata": {
        "colab": {
          "base_uri": "https://localhost:8080/",
          "height": 458
        },
        "id": "WYRp_JW5OUp5",
        "outputId": "134ac0ad-d765-41b0-a128-08d684de194b"
      },
      "source": [
        "# Visualising the clusters\n",
        "plt.figure(figsize=(15,7))\n",
        "plt.scatter(df.values[:, 0], df.values[:, 1], c=labels_rbf, s=100, alpha=0.5)"
      ],
      "execution_count": null,
      "outputs": [
        {
          "output_type": "execute_result",
          "data": {
            "text/plain": [
              "<matplotlib.collections.PathCollection at 0x7f4e16278438>"
            ]
          },
          "metadata": {
            "tags": []
          },
          "execution_count": 94
        },
        {
          "output_type": "display_data",
          "data": {
            "image/png": "[encoded data removed]",
            "text/plain": [
              "<Figure size 1080x504 with 1 Axes>"
            ]
          },
          "metadata": {
            "tags": [],
            "needs_background": "light"
          }
        }
      ]
    },
    {
      "cell_type": "markdown",
      "metadata": {
        "id": "UyIxxnha16OF"
      },
      "source": [
        "#Agglomerative clustering"
      ]
    },
    {
      "cell_type": "code",
      "metadata": {
        "id": "psqA2K5Y2NPO"
      },
      "source": [
        "from sklearn.cluster import AgglomerativeClustering\n",
        "cluster = AgglomerativeClustering(n_clusters=3, affinity='euclidean', linkage='ward' ) \n",
        "y_agg=cluster.fit_predict(df)"
      ],
      "execution_count": null,
      "outputs": []
    },
    {
      "cell_type": "code",
      "metadata": {
        "colab": {
          "base_uri": "https://localhost:8080/",
          "height": 458
        },
        "id": "EwKTlg6F2YxP",
        "outputId": "128e626d-0528-44d7-f6c8-3927924c9fcf"
      },
      "source": [
        "# Visualising the clusters\n",
        "plt.figure(figsize=(15,7))\n",
        "plt.scatter(df.values[:, 0], df.values[:, 1], c=y_agg, s=100, alpha=0.5)\n",
        "#plt.scatter(cluster.cluster_centers[:, 0], cluster.cluster_centers[:, 1], c='red', s=400, alpha=0.5);"
      ],
      "execution_count": null,
      "outputs": [
        {
          "output_type": "execute_result",
          "data": {
            "text/plain": [
              "<matplotlib.collections.PathCollection at 0x7f4e16205d30>"
            ]
          },
          "metadata": {
            "tags": []
          },
          "execution_count": 96
        },
        {
          "output_type": "display_data",
          "data": {
            "image/png": "[encoded data removed]",
            "text/plain": [
              "<Figure size 1080x504 with 1 Axes>"
            ]
          },
          "metadata": {
            "tags": [],
            "needs_background": "light"
          }
        }
      ]
    },
    {
      "cell_type": "code",
      "metadata": {
        "id": "uA2GoIJtKCDL"
      },
      "source": [
        "from sklearn.preprocessing import MinMaxScaler\n",
        "import tensorflow as tf"
      ],
      "execution_count": null,
      "outputs": []
    },
    {
      "cell_type": "code",
      "metadata": {
        "id": "wHXSmKYOVZWq"
      },
      "source": [
        "dPts_=dPts.to_numpy()\n",
        "def input_fn():\n",
        "  return tf.compat.v1.train.limit_epochs(\n",
        "      tf.convert_to_tensor(dPts_, dtype=tf.float32), num_epochs=1)"
      ],
      "execution_count": null,
      "outputs": []
    },
    {
      "cell_type": "code",
      "metadata": {
        "colab": {
          "base_uri": "https://localhost:8080/"
        },
        "id": "rqQD52-tWCrV",
        "outputId": "d2844665-09a6-4dd9-dabb-a72570696646"
      },
      "source": [
        "# Kmeans is in tensorflow 2.0 compatible mode\n",
        "tf.compat.v1.logging.set_verbosity(tf.compat.v1.logging.ERROR)  #avoid INFO messages\n",
        " \n",
        "num_clusters = 3\n",
        "\n",
        "kmeans = tf.compat.v1.estimator.experimental.KMeans(\n",
        "    num_clusters=num_clusters, use_mini_batch=False)\n",
        "\n",
        "\n",
        "# train\n",
        "num_iterations = 10\n",
        "previous_centers = None\n",
        "for _ in range(num_iterations):\n",
        "    kmeans.train(input_fn)\n",
        "    cluster_centers = kmeans.cluster_centers()\n",
        "    if previous_centers is not None:\n",
        "        print('delta:', cluster_centers - previous_centers)\n",
        "    previous_centers = cluster_centers\n",
        "    print('score:', kmeans.score(input_fn))\n",
        "print('cluster centers:', cluster_centers)\n",
        "\n",
        "# map the input points to their clusters\n",
        "cluster_indices = list(kmeans.predict_cluster_index(input_fn))\n",
        "for i, point in enumerate(dPts_):\n",
        "    cluster_index = cluster_indices[i]\n",
        "    center = cluster_centers[cluster_index]"
      ],
      "execution_count": null,
      "outputs": [
        {
          "output_type": "stream",
          "text": [
            "score: 28303738000000.0\n",
            "delta: [[ 2.8076400e+05  1.9064064e+00  4.6408272e+00  3.1606250e+00\n",
            "   1.4059067e+00  7.0125002e-01  5.0785189e+00  2.3281250e+00\n",
            "   2.5286000e+05  9.1437501e-01  5.2082539e-04  1.2499997e-02\n",
            "  -3.4320002e+00 -3.2637501e+00]\n",
            " [-4.7029250e+05 -2.1846695e+00  5.1201820e+00  1.1243366e-01\n",
            "  -3.4690857e-01  2.7480608e-01 -1.2783871e+00  8.2450360e-01\n",
            "  -5.7777500e+04 -2.5243256e+00 -1.5238285e-02 -1.4285714e-02\n",
            "  -8.7014675e-02  1.6059056e-03]\n",
            " [-3.0195000e+03 -1.7470589e+00 -6.5185204e+00 -7.5240064e-01\n",
            "  -8.2579041e-01  3.0674607e-02 -1.3285780e+00 -1.4188888e+00\n",
            "  -7.9742000e+04 -1.1962016e+00  1.6666412e-02 -2.6666668e-01\n",
            "   1.3496447e-01  1.0919541e-01]]\n",
            "score: 15647434000000.0\n",
            "delta: [[ 6.51650000e+04  2.78722763e-01  6.71546936e-01  2.59374976e-01\n",
            "   2.54005432e-01  6.79807514e-02  3.72204542e-01  1.61875010e-01\n",
            "   6.28730000e+04  1.17788315e-02  1.20043755e-04  2.88461614e-03\n",
            "  -4.75999832e-01 -1.51634604e-01]\n",
            " [-2.48416250e+05 -3.97308350e-01  5.25329590e-01 -2.57670023e-02\n",
            "   1.21792603e+00  3.14439237e-02  3.73806953e-02  6.03974685e-02\n",
            "  -6.62845000e+04 -4.11488295e-01  1.45438910e-02  1.42857144e-02\n",
            "   8.70132446e-02 -1.60590559e-03]\n",
            " [-1.10393000e+05  1.27550697e+00  2.10848618e+00  8.38643074e-01\n",
            "   1.99000549e+00 -1.22227415e-01  3.87039185e-02 -4.85024005e-02\n",
            "  -3.88725000e+04  5.42824268e-01 -5.79707623e-02 -4.20289822e-02\n",
            "  -1.10189915e-01  4.72078919e-01]]\n",
            "score: 13154327000000.0\n",
            "delta: [[ 0.0000000e+00  0.0000000e+00  0.0000000e+00  0.0000000e+00\n",
            "   0.0000000e+00  0.0000000e+00  0.0000000e+00  0.0000000e+00\n",
            "   0.0000000e+00  0.0000000e+00  0.0000000e+00  0.0000000e+00\n",
            "   0.0000000e+00  0.0000000e+00]\n",
            " [-9.3045000e+04 -2.1156502e-01  1.2329102e-02 -3.2428569e-01\n",
            "   3.8430786e-01 -3.3928752e-03  7.4222565e-02 -8.5490316e-02\n",
            "   1.2587500e+04 -8.9878179e-02 -9.9182129e-05  0.0000000e+00\n",
            "   9.5367432e-07  7.4505806e-09]\n",
            " [-3.5313000e+04  1.7793465e-01  4.1145325e-01  3.5774112e-01\n",
            "   4.0693665e-01  5.9484243e-03  1.4389515e-02  1.0508360e-01\n",
            "  -4.8497500e+04 -7.3027015e-03 -4.1961670e-05  1.0033441e-03\n",
            "  -3.3240318e-02  1.0555863e-02]]\n",
            "score: 12555930000000.0\n",
            "delta: [[-4.5687500e+04 -3.0751801e-01 -8.4777832e-01 -3.7466663e-01\n",
            "  -2.5066376e-01 -7.7897437e-02 -4.5425653e-01 -2.3933333e-01\n",
            "  -4.4258500e+04 -2.1882050e-01 -8.5353851e-05 -2.0512817e-03\n",
            "   5.0073338e-01  1.7871794e-01]\n",
            " [-1.0597875e+05 -3.7785912e-01  7.6344299e-01 -1.6825378e-02\n",
            "   3.7643433e-02  4.7698423e-02  1.7311907e-01  8.6012907e-02\n",
            "   2.8826000e+04 -5.4837503e-02 -1.3558269e-02  0.0000000e+00\n",
            "   0.0000000e+00 -7.4505806e-09]\n",
            " [-6.5924000e+04  3.6585617e-01  1.5813065e-01  2.2133392e-01\n",
            "   9.2604065e-01 -5.3479970e-03  2.0328808e-01  7.6381780e-02\n",
            "  -7.7487500e+04  1.1372876e-01  8.9387894e-03  2.8490042e-04\n",
            "  -2.4986887e-01 -1.0827978e-01]]\n",
            "score: 11275443000000.0\n",
            "delta: [[-1.94775000e+04  2.87952423e-02  1.76231384e-01  1.15291655e-01\n",
            "  -3.34167480e-03  9.91668552e-03  8.20519924e-02  7.74583146e-02\n",
            "  -1.86145000e+04  2.07041666e-01 -3.46899033e-05 -8.33334401e-04\n",
            "  -2.47335434e-02 -2.70833373e-02]\n",
            " [-1.32635250e+05 -9.97657776e-02 -7.89588928e-01 -1.38222218e-01\n",
            "   1.08577728e+00  7.41111040e-02 -2.65159130e-01  1.00418061e-01\n",
            "   4.18420000e+04 -2.54772604e-01  1.43518448e-02  0.00000000e+00\n",
            "   0.00000000e+00  0.00000000e+00]\n",
            " [-5.33905000e+04 -6.14624023e-02  6.68037415e-01  1.23918951e-02\n",
            "   8.72573853e-02 -4.26929593e-02  1.78734303e-01 -7.61430487e-02\n",
            "  -5.41150000e+04 -4.91756797e-02 -9.54663754e-03  5.10855578e-04\n",
            "   1.36113167e-02  1.62474215e-02]]\n",
            "score: 10177953000000.0\n",
            "delta: [[ 0.0000000e+00  0.0000000e+00  0.0000000e+00  0.0000000e+00\n",
            "   0.0000000e+00  0.0000000e+00  0.0000000e+00  0.0000000e+00\n",
            "   0.0000000e+00  0.0000000e+00  0.0000000e+00  0.0000000e+00\n",
            "   0.0000000e+00  0.0000000e+00]\n",
            " [-3.2810025e+05 -8.3490372e-01  1.4532509e+00  6.6666603e-03\n",
            "   9.8464966e-01  1.8833332e-01  1.1280780e+00 -1.4607909e-01\n",
            "   2.5980550e+05  6.9134879e-01 -3.5762787e-07  0.0000000e+00\n",
            "   0.0000000e+00  7.4505806e-09]\n",
            " [-7.0321000e+04  8.2277298e-02 -7.4348450e-02 -3.7310213e-02\n",
            "   6.3752747e-01 -2.7699172e-02 -2.9795837e-01  8.8245414e-02\n",
            "  -8.6536500e+04 -3.7233418e-01  4.2319298e-05  1.0141982e-03\n",
            "  -2.7332306e-03  2.5435388e-02]]\n",
            "score: 8003785000000.0\n",
            "delta: [[0. 0. 0. 0. 0. 0. 0. 0. 0. 0. 0. 0. 0. 0.]\n",
            " [0. 0. 0. 0. 0. 0. 0. 0. 0. 0. 0. 0. 0. 0.]\n",
            " [0. 0. 0. 0. 0. 0. 0. 0. 0. 0. 0. 0. 0. 0.]]\n",
            "score: 8003785000000.0\n",
            "delta: [[0. 0. 0. 0. 0. 0. 0. 0. 0. 0. 0. 0. 0. 0.]\n",
            " [0. 0. 0. 0. 0. 0. 0. 0. 0. 0. 0. 0. 0. 0.]\n",
            " [0. 0. 0. 0. 0. 0. 0. 0. 0. 0. 0. 0. 0. 0.]]\n",
            "score: 8003785000000.0\n",
            "delta: [[0. 0. 0. 0. 0. 0. 0. 0. 0. 0. 0. 0. 0. 0.]\n",
            " [0. 0. 0. 0. 0. 0. 0. 0. 0. 0. 0. 0. 0. 0.]\n",
            " [0. 0. 0. 0. 0. 0. 0. 0. 0. 0. 0. 0. 0. 0.]]\n",
            "score: 8003785000000.0\n",
            "cluster centers: [[ 5.54426950e+06  1.90641060e+01  5.00785255e+01 -5.09374976e-01\n",
            "   8.55602036e+01 -1.08749986e-01  2.54171872e+00 -7.18750134e-02\n",
            "   6.85692900e+06  2.34374985e-01  1.45885420e+00  1.24999974e-02\n",
            "   5.82199955e+00  2.06249967e-01]\n",
            " [ 3.36382450e+06  1.74264278e+01  5.31979446e+01 -4.45999950e-01\n",
            "   9.57856979e+01  3.29999961e-02  4.49345398e+00  7.97626451e-02\n",
            "   6.26723200e+06  4.16046530e-01  1.45833302e+00  0.00000000e+00\n",
            "   5.85568905e+00 -1.07241370e-01]\n",
            " [ 4.75599300e+06  1.94539547e+01  4.92694397e+01 -2.49600828e-01\n",
            "   8.91340790e+01 -3.71344507e-01  2.83737946e+00  6.17646659e-03\n",
            "   5.98972800e+06  5.01538932e-01  1.45808816e+00 -5.88235259e-03\n",
            "   5.87154341e+00 -2.54766732e-01]]\n"
          ],
          "name": "stdout"
        }
      ]
    },
    {
      "cell_type": "code",
      "metadata": {
        "colab": {
          "base_uri": "https://localhost:8080/"
        },
        "id": "vmwwVGJyWHRD",
        "outputId": "32f28d6f-db59-4499-80a7-31c55c3aa4ae"
      },
      "source": [
        "centers = kmeans.cluster_centers()\n",
        "centers"
      ],
      "execution_count": null,
      "outputs": [
        {
          "output_type": "execute_result",
          "data": {
            "text/plain": [
              "array([[ 5.54426950e+06,  1.90641060e+01,  5.00785255e+01,\n",
              "        -5.09374976e-01,  8.55602036e+01, -1.08749986e-01,\n",
              "         2.54171872e+00, -7.18750134e-02,  6.85692900e+06,\n",
              "         2.34374985e-01,  1.45885420e+00,  1.24999974e-02,\n",
              "         5.82199955e+00,  2.06249967e-01],\n",
              "       [ 3.36382450e+06,  1.74264278e+01,  5.31979446e+01,\n",
              "        -4.45999950e-01,  9.57856979e+01,  3.29999961e-02,\n",
              "         4.49345398e+00,  7.97626451e-02,  6.26723200e+06,\n",
              "         4.16046530e-01,  1.45833302e+00,  0.00000000e+00,\n",
              "         5.85568905e+00, -1.07241370e-01],\n",
              "       [ 4.75599300e+06,  1.94539547e+01,  4.92694397e+01,\n",
              "        -2.49600828e-01,  8.91340790e+01, -3.71344507e-01,\n",
              "         2.83737946e+00,  6.17646659e-03,  5.98972800e+06,\n",
              "         5.01538932e-01,  1.45808816e+00, -5.88235259e-03,\n",
              "         5.87154341e+00, -2.54766732e-01]], dtype=float32)"
            ]
          },
          "metadata": {
            "tags": []
          },
          "execution_count": 100
        }
      ]
    },
    {
      "cell_type": "code",
      "metadata": {
        "colab": {
          "base_uri": "https://localhost:8080/",
          "height": 639
        },
        "id": "0zOyk0x6WM8e",
        "outputId": "9227f6f1-81b0-4bf9-983a-5fb072c6bf75"
      },
      "source": [
        "import matplotlib\n",
        "from matplotlib import cm\n",
        "import seaborn as sns\n",
        "plt.figure(figsize=(10,10))\n",
        "plt.scatter(df.values[:, 0], df.values[:, 6], c=cluster_indices, s=100, alpha=0.5)\n",
        "plt.title('K Means')\n",
        "\n",
        "plt.legend()\n",
        "plt.show()"
      ],
      "execution_count": null,
      "outputs": [
        {
          "output_type": "stream",
          "text": [
            "No handles with labels found to put in legend.\n"
          ],
          "name": "stderr"
        },
        {
          "output_type": "display_data",
          "data": {
            "image/png": "[encoded data removed]",
            "text/plain": [
              "<Figure size 720x720 with 1 Axes>"
            ]
          },
          "metadata": {
            "tags": [],
            "needs_background": "light"
          }
        }
      ]
    },
    {
      "cell_type": "code",
      "metadata": {
        "colab": {
          "base_uri": "https://localhost:8080/"
        },
        "id": "8j2z0gitKwbe",
        "outputId": "1505a36b-08c2-4afb-9413-11bdb78a6438"
      },
      "source": [
        "dPts.info()"
      ],
      "execution_count": null,
      "outputs": [
        {
          "output_type": "stream",
          "text": [
            "<class 'pandas.core.frame.DataFrame'>\n",
            "Int64Index: 60 entries, 22279 to 43828\n",
            "Data columns (total 14 columns):\n",
            " #   Column                      Non-Null Count  Dtype  \n",
            "---  ------                      --------------  -----  \n",
            " 0   KT_CO2_x                    60 non-null     float64\n",
            " 1   Metric_TON_PerCapita        60 non-null     float64\n",
            " 2   Elect_frm_Coal_Percent      60 non-null     float64\n",
            " 3   Elect_Annual_Change         60 non-null     float64\n",
            " 4   Energy_Fossil_Use_Percent   60 non-null     float64\n",
            " 5   Fossil_Enr_Annual_Change    60 non-null     float64\n",
            " 6   GDP_Growth_Percent          60 non-null     float64\n",
            " 7   Growth_Annual_Change        60 non-null     float64\n",
            " 8   KT_CO2_y                    60 non-null     float64\n",
            " 9   CO2_Annual_Change           60 non-null     float64\n",
            " 10  percentage_below_poverty    60 non-null     float64\n",
            " 11  poverty_percent_Change      60 non-null     float64\n",
            " 12  Unemployment_Rate           60 non-null     float64\n",
            " 13  Unemployment_Annual_Change  60 non-null     float64\n",
            "dtypes: float64(14)\n",
            "memory usage: 7.0 KB\n"
          ],
          "name": "stdout"
        }
      ]
    },
    {
      "cell_type": "markdown",
      "metadata": {
        "id": "CL0UqHSkhNXe"
      },
      "source": [
        "#KMeans from TensorFlow"
      ]
    },
    {
      "cell_type": "code",
      "metadata": {
        "colab": {
          "base_uri": "https://localhost:8080/",
          "height": 459
        },
        "id": "Q7MUZRewX2cp",
        "outputId": "bcf3941d-38c5-4b73-cfad-ea0fe7d95631"
      },
      "source": [
        "tensor_data=tf.convert_to_tensor(dPts_, dtype=tf.float32)\n",
        "plt.subplots(figsize=(15, 7))\n",
        "\n",
        "plt.scatter(tensor_data[:, 0], tensor_data[:, 6], c=cluster_indices, s=100, alpha=0.5,cmap='viridis')\n",
        "\n",
        "plt.scatter(centers[:, 0], centers[:, 6], c='red', s=400, alpha=0.5);\n",
        "plt.xlabel(\"KiloTons of CO2 emission\")\n",
        "plt.ylabel(\"GDP percentage\")"
      ],
      "execution_count": null,
      "outputs": [
        {
          "output_type": "execute_result",
          "data": {
            "text/plain": [
              "Text(0, 0.5, 'GDP percentage')"
            ]
          },
          "metadata": {
            "tags": []
          },
          "execution_count": 103
        },
        {
          "output_type": "display_data",
          "data": {
            "image/png": "[encoded data removed]",
            "text/plain": [
              "<Figure size 1080x504 with 1 Axes>"
            ]
          },
          "metadata": {
            "tags": [],
            "needs_background": "light"
          }
        }
      ]
    },
    {
      "cell_type": "markdown",
      "metadata": {
        "id": "1kBAcecBa9R2"
      },
      "source": [
        "#KMeans from Pytorch"
      ]
    },
    {
      "cell_type": "code",
      "metadata": {
        "id": "UjcUENzGLZ3R"
      },
      "source": [
        "#pip install kmeans_pytorch"
      ],
      "execution_count": null,
      "outputs": []
    },
    {
      "cell_type": "code",
      "metadata": {
        "id": "fwYY06mVZyKX"
      },
      "source": [
        "import torch\n",
        "import numpy as np\n",
        "from kmeans_pytorch import kmeans"
      ],
      "execution_count": null,
      "outputs": []
    },
    {
      "cell_type": "code",
      "metadata": {
        "colab": {
          "base_uri": "https://localhost:8080/"
        },
        "id": "19l_oaQcZ21g",
        "outputId": "5690b983-e8b5-4dcb-83fe-10e8c9e0ba14"
      },
      "source": [
        "x = torch.from_numpy(df.to_numpy())\n",
        "\n",
        "# kmeans\n",
        "cluster_ids_x, cluster_centers = kmeans(\n",
        "    X=x, num_clusters=3, distance='euclidean', device=torch.device('cuda:0')\n",
        ")"
      ],
      "execution_count": null,
      "outputs": [
        {
          "output_type": "stream",
          "text": [
            "[running kmeans]: 6it [00:00, 332.40it/s, center_shift=0.000000, iteration=6, tol=0.000100]"
          ],
          "name": "stderr"
        },
        {
          "output_type": "stream",
          "text": [
            "running k-means on cuda:0..\n"
          ],
          "name": "stdout"
        },
        {
          "output_type": "stream",
          "text": [
            "\n"
          ],
          "name": "stderr"
        }
      ]
    },
    {
      "cell_type": "code",
      "metadata": {
        "colab": {
          "base_uri": "https://localhost:8080/",
          "height": 459
        },
        "id": "6bK958Sbaqov",
        "outputId": "8ce7c7da-8eca-493c-f876-cdc101ba6eb3"
      },
      "source": [
        "plt.subplots(figsize=(15, 7))\n",
        "plt.scatter(x[:, 0], x[:, 6], c=cluster_ids_x, s=100, cmap='cool')\n",
        "plt.scatter(cluster_centers[:, 0], cluster_centers[:, 6], c='red', s=400, alpha=0.5)\n",
        "plt.xlabel(\"KiloTons of CO2 emission\")\n",
        "plt.ylabel(\"GDP percentage\")"
      ],
      "execution_count": null,
      "outputs": [
        {
          "output_type": "execute_result",
          "data": {
            "text/plain": [
              "Text(0, 0.5, 'GDP percentage')"
            ]
          },
          "metadata": {
            "tags": []
          },
          "execution_count": 113
        },
        {
          "output_type": "display_data",
          "data": {
            "image/png": "[encoded data removed]",
            "text/plain": [
              "<Figure size 1080x504 with 1 Axes>"
            ]
          },
          "metadata": {
            "tags": [],
            "needs_background": "light"
          }
        }
      ]
    },
    {
      "cell_type": "markdown",
      "metadata": {
        "id": "iAOupI7JXbh_"
      },
      "source": [
        "#KMeans from SKLearn"
      ]
    },
    {
      "cell_type": "code",
      "metadata": {
        "id": "QRbIjzEGvzB0"
      },
      "source": [
        "from sklearn.cluster import KMeans\n",
        "# K-Means to the dataset\n",
        "kmeans = KMeans(n_clusters = 3, init = 'k-means++', random_state = 42)\n",
        "y_kmeans = kmeans.fit_predict(df)"
      ],
      "execution_count": null,
      "outputs": []
    },
    {
      "cell_type": "code",
      "metadata": {
        "colab": {
          "base_uri": "https://localhost:8080/",
          "height": 459
        },
        "id": "Wy_IztJL0eup",
        "outputId": "3eea0d9c-2960-4611-e351-3fe75d3e5b71"
      },
      "source": [
        "# Visualising the clusters\n",
        "plt.figure(figsize=(15,7))\n",
        "y_kmeans = kmeans.fit_predict(df)\n",
        "plt.scatter(df.values[:, 0], df.values[:, 1], c=y_kmeans, s=100, alpha=0.5)\n",
        "plt.scatter(kmeans.cluster_centers_[:, 0], kmeans.cluster_centers_[:, 1], c='red', s=400, alpha=0.5)\n",
        "plt.xlabel(\"KiloTons of CO2 emission\")\n",
        "plt.ylabel(\"GDP percentage\")"
      ],
      "execution_count": null,
      "outputs": [
        {
          "output_type": "execute_result",
          "data": {
            "text/plain": [
              "Text(0, 0.5, 'GDP percentage')"
            ]
          },
          "metadata": {
            "tags": []
          },
          "execution_count": 115
        },
        {
          "output_type": "display_data",
          "data": {
            "image/png": "[encoded data removed]",
            "text/plain": [
              "<Figure size 1080x504 with 1 Axes>"
            ]
          },
          "metadata": {
            "tags": [],
            "needs_background": "light"
          }
        }
      ]
    }
  ]
}